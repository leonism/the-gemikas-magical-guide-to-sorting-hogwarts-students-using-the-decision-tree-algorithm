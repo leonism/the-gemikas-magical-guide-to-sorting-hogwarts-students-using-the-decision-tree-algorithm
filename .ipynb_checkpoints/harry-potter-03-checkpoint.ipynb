{
 "cells": [
  {
   "cell_type": "markdown",
   "id": "c975deea-42e3-4477-b5f2-6ed4ba7cdc40",
   "metadata": {},
   "source": [
    "# The Gemika's Magical Guide to Sorting Hogwarts Students using the Decision Tree Algorithm (Part #3)\n",
    "\n",
    "![machine-learning-03.jpg](images/machine-learning-28.jpg)"
   ]
  },
  {
   "cell_type": "markdown",
   "id": "7f7d1395-9e54-4b68-86f0-7356e1eb3389",
   "metadata": {},
   "source": [
    "## 3. Exploring the Enchanted Dataset 🌟"
   ]
  },
  {
   "cell_type": "markdown",
   "id": "0a56fd95-927c-4275-a91b-409d6ff6a918",
   "metadata": {},
   "source": [
    "Welcome back, intrepid **witches and wizards**!  As we gather around the glowing hearth of the **Gryffindor** common room, it is time to delve into the heart of our magical quest: the enchanted dataset. Imagine this dataset as a map of the wizarding world, filled with secrets and mysteries waiting to be uncovered. Each row is a character, each column a spell, and together they tell the story of our beloved Hogwarts."
   ]
  },
  {
   "cell_type": "markdown",
   "id": "a114ce39-a20e-4783-ab03-96d949d05985",
   "metadata": {},
   "source": [
    "---"
   ]
  },
  {
   "cell_type": "markdown",
   "id": "993b0f4c-e34f-487d-8244-80bc6f01f171",
   "metadata": {},
   "source": [
    "### **3.1 Introduction to Hogwarts Students Dataset**"
   ]
  },
  {
   "cell_type": "markdown",
   "id": "f863e127-59ba-4b78-9bad-bdbbf8f65c8c",
   "metadata": {},
   "source": [
    "Deep within the labyrinthine shelves of the Hogwarts Library, past the watchful gaze of Madam Pince, lies a section shrouded in mystery – the Restricted Section. Here, amongst dusty tomes whispering forgotten lore and grimoires bound in dragonhide, lies a treasure unlike any other: a data scroll brimming with the secrets of **Hogwarts students**! ✨\n",
    "\n",
    "Unlike the ornately illustrated scrolls detailing the history of Quidditch or the intricacies of potion-making, this particular scroll is etched with a curious script of numbers and symbols. To the untrained eye, it might resemble a faded map or a **cryptic incantation**. But for a budding data sorcerer like yourself, it's a treasure trove waiting to be unlocked!\n",
    "\n",
    "Imagine, if you will, this data scroll unfurling before you, its surface shimmering with an otherworldly glow. Each inscription whispers tales of past students – their bravery, their wit, their cunning, and their ambition. You'll find the fiery courage of a Gryffindor encoded in a sequence of numbers, the intellectual prowess of a Ravenclaw represented by a complex algorithm, the unwavering ambition of a Slytherin hidden within a data chart, and the unwavering loyalty of a Hufflepuff revealed in a hidden pattern.\n",
    "\n",
    "Much like deciphering an ancient spell, we must delve into this data scroll, unravel its secrets, and uncover the underlying patterns that bind a student's traits to their rightful Hogwarts house. With a flick of your wand (or perhaps a tap on your enchanted tablet!), you'll be able to sort future students with an accuracy that would rival the Sorting Hat itself!\n",
    "\n",
    "But before we embark on this magical data wrangling quest, a word of caution is necessary. Just like the Restricted Section holds forbidden knowledge, this data scroll too may contain its own set of challenges. Missing information (think of it as an erased passage in a spellbook!), inconsistencies (imagine a rogue pixie messing with your potions!), and outliers (students with unique personalities that defy categorization!) may lurk within. But fear not, for with a dash of perseverance and a sprinkle of data-driven ingenuity, we shall overcome these obstacles and unlock the true potential of this extraordinary scroll! 🪄✨\n"
   ]
  },
  {
   "cell_type": "markdown",
   "id": "b543ce25-ef94-41a9-8395-20449310912c",
   "metadata": {},
   "source": [
    "---"
   ]
  },
  {
   "cell_type": "markdown",
   "id": "dc043691-df51-46a7-8181-bec50b09313f",
   "metadata": {},
   "source": [
    "### **3.2 Loading Libraries in Python**"
   ]
  },
  {
   "cell_type": "markdown",
   "id": "bcf4ddc4-1679-4325-bb8d-b1723ac68a79",
   "metadata": {},
   "source": [
    "Our quest to unveil the secrets of sorting at Hogwarts is upon us, but before we can utter a single incantation or brew a potent potion of data, we must first gather our essential tools. In the world of data science, these tools are not wands or cauldrons, but something far more powerful – **Python libraries**. ✨\n",
    "\n",
    "Think of these libraries as our very own spellbooks, each containing unique collections of **incantations** (functions and code) that will empower us to manipulate and conjure order from the chaos of raw data. 🪄 Just as a skilled witch or wizard wouldn't dream of facing a dragon without their wand, a data scientist wouldn't dare approach a mountain of information without these invaluable resources. \n",
    "\n",
    "The first library on our list is none other than **NumPy**, a powerful tome filled with spells for numerical computation.  With a flick of our metaphorical wand (or rather, a line of Python code), NumPy allows us to summon forth multi-dimensional arrays, which act like magical containers that can hold mountains of data – be it student grades, wand core materials, or even the number of Chocolate Frogs consumed each week!  \n",
    "\n",
    "Next, we'll call upon the wisdom of the **Pandas** library. Imagine a dusty tome overflowing with enchanted spreadsheets, capable of wrangling and taming even the most unruly sets of data.  Pandas grants us the power to sort, filter, and clean our information with the ease of a seasoned Herbology student weeding their Dragonhide gloves. \n",
    "\n",
    "Finally, to illuminate the insights hidden within our data, we'll beseech the aid of **Matplotlib** and **Seaborn**. These libraries act as our personal portrait wizards, conjuring dazzling charts and graphs that transform numbers into breathtaking visuals.  With Matplotlib, we can craft bar charts that soar like magical broomsticks, while Seaborn allows us to paint landscapes of information, each hue and line revealing a hidden truth. \n",
    "\n",
    "With these potent Python libraries at our fingertips, we are well on our way to unlocking the secrets hidden within the Hogwarts data. So, grab your metaphorical quill (or keyboard) and prepare to be amazed, for our data-driven sorting ceremony is about to begin! ✨"
   ]
  },
  {
   "cell_type": "code",
   "execution_count": 12,
   "id": "44be6be5-dee8-413f-a687-69c3c3957ba4",
   "metadata": {},
   "outputs": [],
   "source": [
    "# Importing the necessary libraries for our magical journey\n",
    "import pandas as pd  # For data manipulation\n",
    "import numpy as np  # For numerical operations\n",
    "import matplotlib.pyplot as plt  # For data visualization\n",
    "import seaborn as sns  # For advanced data visualization\n",
    "\n",
    "# Ensuring our charts are in line with the Hogwarts aesthetic\n",
    "sns.set(style=\"whitegrid\")"
   ]
  },
  {
   "cell_type": "markdown",
   "id": "0df7c921-ca33-4969-86ac-bba7beb40fb7",
   "metadata": {},
   "source": [
    "---"
   ]
  },
  {
   "cell_type": "markdown",
   "id": "c1232ef8-5c30-4761-bbb6-b4221e648774",
   "metadata": {},
   "source": [
    "### **3.3 Reading the Dataset into a Pandas DataFrame**"
   ]
  },
  {
   "cell_type": "markdown",
   "id": "bed645ea-9999-403f-bbf3-0d27092818f7",
   "metadata": {},
   "source": [
    "With our spell books at the ready, it is time to conjure the dataset into a form we can work with. Using the mystical powers of *[pandas](https://pandas.pydata.org/)*, we will transform the dataset into a DataFrame, much like [Professor McGonagall](https://harrypotter.fandom.com/wiki/Minerva_McGonagall) transfigures a desk into a pig. This DataFrame will be our primary tool for exploring and manipulating the data."
   ]
  },
  {
   "cell_type": "code",
   "execution_count": 13,
   "id": "1d83d440-2a6e-49f5-aab8-21115db1a4ad",
   "metadata": {},
   "outputs": [],
   "source": [
    "# Reading the enchanted dataset into a Pandas DataFrame\n",
    "dataset_path = 'data/hogwarts-students.csv'  # Path to our dataset\n",
    "hogwarts_df = pd.read_csv(dataset_path)"
   ]
  },
  {
   "cell_type": "markdown",
   "id": "160b30da-1c5e-43ec-b669-9ddba6a587d8",
   "metadata": {},
   "source": [
    "This is how they would look like in your Jupyter Lab, simply just copy and paste the code, from the above section to your Jupyter Notebook as instructed from the [previous post](https://dev.to/gerryleonugroho/the-gemikas-magical-guide-to-sorting-hogwarts-students-using-the-decision-tree-algorithm-part-2-hm4), and don't forget to fire-up your Jupyter Lab environment by invoking the magic spell of `jupyter notebook`\n",
    "\n",
    "![Displaying the first few rows of the dataset to get a glimpse of its contents in Jupyter Lab](https://dev-to-uploads.s3.amazonaws.com/uploads/articles/faqrli9jrzqa920s041c.png)"
   ]
  },
  {
   "cell_type": "markdown",
   "id": "a323eb78-d679-4e8d-a161-688917f7c3b6",
   "metadata": {},
   "source": [
    "Now that we've settled our magical requirements, let's have a peek over our enchanted dataset first few rows, so that we may have a short glimpse of what it's all about."
   ]
  },
  {
   "cell_type": "code",
   "execution_count": 14,
   "id": "0f9ae8f0-2481-4102-b105-6bf9d5f98683",
   "metadata": {},
   "outputs": [
    {
     "name": "stdout",
     "output_type": "stream",
     "text": [
      "               name  gender  age   origin                      specialty  \\\n",
      "0      Harry Potter    Male   11  England  Defense Against the Dark Arts   \n",
      "1  Hermione Granger  Female   11  England                Transfiguration   \n",
      "2       Ron Weasley    Male   11  England                          Chess   \n",
      "3      Draco Malfoy    Male   11  England                        Potions   \n",
      "4     Luna Lovegood  Female   11  Ireland                      Creatures   \n",
      "\n",
      "        house blood_status  pet wand_type              patronus  \\\n",
      "0  Gryffindor   Half-blood  Owl     Holly                  Stag   \n",
      "1  Gryffindor  Muggle-born  Cat      Vine                 Otter   \n",
      "2  Gryffindor   Pure-blood  Rat       Ash  Jack Russell Terrier   \n",
      "3   Slytherin   Pure-blood  Owl  Hawthorn                   NaN   \n",
      "4   Ravenclaw   Half-blood  NaN       Fir                  Hare   \n",
      "\n",
      "  quidditch_position         boggart                 favorite_class  \\\n",
      "0             Seeker        Dementor  Defense Against the Dark Arts   \n",
      "1                NaN         Failure                     Arithmancy   \n",
      "2             Keeper          Spider                         Charms   \n",
      "3             Seeker  Lord Voldemort                        Potions   \n",
      "4                NaN      Her mother                      Creatures   \n",
      "\n",
      "   house_points  \n",
      "0         150.0  \n",
      "1         200.0  \n",
      "2          50.0  \n",
      "3         100.0  \n",
      "4         120.0  \n"
     ]
    }
   ],
   "source": [
    "# Displaying the first few rows of the dataset to get a glimpse of its contents\n",
    "print(hogwarts_df.head())"
   ]
  },
  {
   "cell_type": "markdown",
   "id": "1c39b3c8-5cfc-4e6d-b932-2e10067016f7",
   "metadata": {},
   "source": [
    "*Ah, look at that!* The first few rows of our DataFrame appear before us like the Marauder's Map, revealing the names, traits, and house placements of our fellow students. Each row tells a unique story, and together, they form the tapestry of Hogwarts."
   ]
  },
  {
   "cell_type": "markdown",
   "id": "0e0e6396-4c53-4029-ac8f-96214711326d",
   "metadata": {},
   "source": [
    "---"
   ]
  },
  {
   "cell_type": "markdown",
   "id": "16fe2453-5076-4ea2-892c-f3cee69cda44",
   "metadata": {},
   "source": [
    "### **3.4 Gemika's Pop-Up Quiz: Exploring the Enchanted Dataset**\n",
    "\n",
    "And now, dear reader, my son **Gemika Haziq Nugroho** appears with a twinkle in his eye and a quiz in hand. He has prepared a series of questions to test your knowledge and ensure you are ready to proceed. Are you prepared to face the challenge?\n",
    "\n",
    "1. **What Python library is used to read the dataset into a DataFrame?**\n",
    "2. **How do you display the first few rows of a DataFrame?**\n",
    "3. **What is the purpose of the `sns.set(style=\"whitegrid\")` command?**\n",
    "\n",
    "Answer these questions correctly, and you will have proven your understanding of the enchanted dataset. Only then can we proceed to uncover the deeper mysteries that lie within. With our dataset unveiled and our understanding tested, we are now ready to embark on the next phase of our journey. The secrets of Hogwarts await, and with our wands and wisdom, we shall uncover them all. Onward, to adventure and discovery! 🌟✨🧙‍♂️"
   ]
  }
 ],
 "metadata": {
  "kernelspec": {
   "display_name": "Python 3 (ipykernel)",
   "language": "python",
   "name": "python3"
  },
  "language_info": {
   "codemirror_mode": {
    "name": "ipython",
    "version": 3
   },
   "file_extension": ".py",
   "mimetype": "text/x-python",
   "name": "python",
   "nbconvert_exporter": "python",
   "pygments_lexer": "ipython3",
   "version": "3.8.0"
  }
 },
 "nbformat": 4,
 "nbformat_minor": 5
}
