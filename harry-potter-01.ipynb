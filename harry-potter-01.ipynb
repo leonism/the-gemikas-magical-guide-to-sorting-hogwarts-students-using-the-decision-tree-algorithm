{
 "cells": [
  {
   "cell_type": "markdown",
   "id": "c975deea-42e3-4477-b5f2-6ed4ba7cdc40",
   "metadata": {},
   "source": [
    "# The Gemika's Magical Guide to Sorting Hogwarts Students using the Decision Tree Algorithm (Part #`)\n",
    "\n",
    "![machine-learning-03.jpg](images/machine-learning-31.jpg)"
   ]
  },
  {
   "cell_type": "markdown",
   "id": "0a56fd95-927c-4275-a91b-409d6ff6a918",
   "metadata": {},
   "source": [
    "## 1. Welcome to Hogwarts School of Witchcraft and Wizardry! 🏰🌟🔮\n",
    "\n",
    "In the heart of the Scottish Highlands, hidden away from the prying eyes of Muggles, stands the majestic and ancient Hogwarts School of Witchcraft and Wizardry. Its towering spires and enchanting grounds have been home to countless generations of witches and wizards, each carving their path in the annals of magical history. Today, as the mist rises over the Forbidden Forest and the Giant Squid lazily drifts in the Great Lake, we embark on a new kind of magical journey. Welcome, dear young great minds, to a world where data science meets the arcane arts, led by none other than Professor Nugroho. 🌌✨"
   ]
  },
  {
   "cell_type": "markdown",
   "id": "3a59e209-7dd0-4ea8-a931-6f22a5218ff4",
   "metadata": {},
   "source": [
    "### 1.1 Introduction to Professor Nugroho ✨🧙‍♂️\n",
    "\n",
    "Professor Nugroho, a close confidant of the venerable Albus Dumbledore, has dedicated his life to unraveling the mysteries of both magic and data. With a wand in one hand and a [Jupyter Notebook](https://jupyter.org/) on the other, he delves into the secrets of the magical universe. His office, tucked away in a quiet corner of Hogwarts, is a haven of books and scrolls, with enchanted quills scribbling notes and cauldrons bubbling with potions of knowledge. Today, we gather to learn from his wisdom, accompanied by his young son, **Gemika Haziq Nugroho**, an eager young sorcerer ready to embark on his own adventures at Hogwarts, with a heart full of curiosity and a wand full of potential. 📚🧙‍♂️"
   ]
  },
  {
   "cell_type": "markdown",
   "id": "dfb74c3c-6551-436d-b6dd-33f563b6ab3c",
   "metadata": {},
   "source": [
    "### 1.2 Meet Gemika Haziq Nugroho, an Eager Young Wizard 🌟🔮\n",
    "\n",
    "Gemika, a spirited 8-year-old with a thirst for knowledge, often finds himself wandering through the castle’s corridors, discovering hidden passages and long-forgotten chambers. His inquisitive nature and boundless energy make him the perfect companion for our journey. Together, we will delve into the magical world of data, transforming mundane numbers into spells and enchantments that can sort the witches and wizards of Hogwarts into their rightful houses. 🏰🧙‍♀️\n",
    "\n",
    "As we embark on this journey, picture yourself in the Great Hall, its enchanted ceiling reflecting the sky outside. The house tables are abuzz with students chattering excitedly, owls swooping down to deliver messages, and the aroma of a grand feast lingering in the air. Here, amidst the clinking of goblets and the laughter of friends, we will weave the threads of data into a tapestry of magic. Each step we take will be guided by Professor Nugroho's expertise and Gemika's curious questions, ensuring that no mystery remains unsolved. ✨🍽️"
   ]
  },
  {
   "cell_type": "markdown",
   "id": "22205d90-a33c-4bdb-811b-03c60119dc63",
   "metadata": {},
   "source": [
    "### 1.3 Prepare Your Sorcery Wands & Magic ✨\n",
    "\n",
    "So, dust off your robes, polish your wands, and prepare your minds for a journey unlike any other. With the combined magic of Hogwarts and the precision of data science, we are about to uncover the secrets that lie within our enchanted dataset. Whether you are a seasoned witch or wizard, or a young sorcerer just beginning your magical education, this adventure promises to be filled with wonder, learning, and a sprinkle of Hogwarts' timeless charm. Welcome to the magical world of data science at Hogwarts! 🌟🔮🧙‍♂️"
   ]
  },
  {
   "cell_type": "markdown",
   "id": "25446dd3-0c9a-45c3-8502-b46bb4866842",
   "metadata": {},
   "source": [
    "Feel the enchantment and get ready to learn like never before. As Professor Gerry Leo Nugroho often says, \"_In every data point lies a spell waiting to be cast._\" And with young Gemika by our side, let's make magic happen! Let's get ready to the [second part of our magical journey](https://dev.to/gerryleonugroho/the-gemikas-magical-guide-to-sorting-hogwarts-students-using-the-decision-tree-algorithm-part-2-hm4) 🎩🪄🌟."
   ]
  }
 ],
 "metadata": {
  "kernelspec": {
   "display_name": "Python 3 (ipykernel)",
   "language": "python",
   "name": "python3"
  },
  "language_info": {
   "codemirror_mode": {
    "name": "ipython",
    "version": 3
   },
   "file_extension": ".py",
   "mimetype": "text/x-python",
   "name": "python",
   "nbconvert_exporter": "python",
   "pygments_lexer": "ipython3",
   "version": "3.8.0"
  }
 },
 "nbformat": 4,
 "nbformat_minor": 5
}
