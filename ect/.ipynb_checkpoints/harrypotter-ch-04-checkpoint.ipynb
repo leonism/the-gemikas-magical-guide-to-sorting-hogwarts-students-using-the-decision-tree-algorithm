{
 "cells": [
  {
   "cell_type": "markdown",
   "id": "b52ecd13-b411-406f-ba73-2007e183be21",
   "metadata": {},
   "source": [
    "# 4. Unveiling the Mysteries: Data Exploration (EDA) 🔍"
   ]
  },
  {
   "cell_type": "markdown",
   "id": "a838cd33-08aa-45bf-bdf8-fcd703ab22fd",
   "metadata": {},
   "source": [
    "Welcome back to the enchanting halls of Hogwarts, dear sorcerers! As we continue our magical journey into the world of data science, it's time to unveil the **mysteries hidden** within our dataset. In this chapter, we'll embark on a series of explorations that will reveal the secrets of our enchanted scroll (or **dataset**). Think of this as delving into the depths of the **Room of Requirement**, where each discovery leads us to greater understanding. ✨🧙‍♂️"
   ]
  },
  {
   "cell_type": "markdown",
   "id": "90b3eb81-968a-44bc-938a-5f40fb732939",
   "metadata": {},
   "source": [
    "---"
   ]
  },
  {
   "cell_type": "markdown",
   "id": "32868195-4a26-4e46-8017-ac2ba1ec7e15",
   "metadata": {},
   "source": [
    "## **4.1 Inspecting First Few Rows**"
   ]
  },
  {
   "cell_type": "markdown",
   "id": "e2fc9ec6-c859-4062-a506-45ed8694c58e",
   "metadata": {},
   "source": [
    "Our first step is to take a glimpse at the first few rows of our dataset, much like opening the Marauder's Map for the first time. This will give us an initial understanding of the structure and contents of our data."
   ]
  },
  {
   "cell_type": "code",
   "execution_count": 63,
   "id": "b5dc1158-af47-4fc3-a0c9-ef6ac6c0e4e5",
   "metadata": {},
   "outputs": [
    {
     "name": "stdout",
     "output_type": "stream",
     "text": [
      "               name  gender  age   origin                      specialty  \\\n",
      "0      Harry Potter    Male   11  England  Defense Against the Dark Arts   \n",
      "1  Hermione Granger  Female   11  England                Transfiguration   \n",
      "2       Ron Weasley    Male   11  England                          Chess   \n",
      "3      Draco Malfoy    Male   11  England                        Potions   \n",
      "4     Luna Lovegood  Female   11  Ireland                      Creatures   \n",
      "\n",
      "        house blood_status  pet wand_type              patronus  \\\n",
      "0  Gryffindor   Half-blood  Owl     Holly                  Stag   \n",
      "1  Gryffindor  Muggle-born  Cat      Vine                 Otter   \n",
      "2  Gryffindor   Pure-blood  Rat       Ash  Jack Russell Terrier   \n",
      "3   Slytherin   Pure-blood  Owl  Hawthorn                   NaN   \n",
      "4   Ravenclaw   Half-blood  NaN       Fir                  Hare   \n",
      "\n",
      "  quidditch_position         boggart                 favorite_class  \\\n",
      "0             Seeker        Dementor  Defense Against the Dark Arts   \n",
      "1                NaN         Failure                     Arithmancy   \n",
      "2             Keeper          Spider                         Charms   \n",
      "3             Seeker  Lord Voldemort                        Potions   \n",
      "4                NaN      Her mother                      Creatures   \n",
      "\n",
      "   house_points  \n",
      "0         150.0  \n",
      "1         200.0  \n",
      "2          50.0  \n",
      "3         100.0  \n",
      "4         120.0  \n"
     ]
    }
   ],
   "source": [
    "# Inspecting the first few rows of the dataset\n",
    "dataset_path = 'data/hogwarts-students.csv'  # Path to our dataset\n",
    "hogwarts_df = pd.read_csv(dataset_path)\n",
    "print(hogwarts_df.head())"
   ]
  },
  {
   "cell_type": "markdown",
   "id": "9c8f4303-4aef-4b3e-be58-71e95855e3a9",
   "metadata": {},
   "source": [
    "As we peer into these rows, we see a variety of features such as **student names**, **house affiliations**, and **various traits**. Each **row is a story**, each **column a chapter**. We might notice, for example, that **Harry, Hermione, and Ron** are all in **_Gryffindor_**, characterized by their bravery and determination. This initial inspection helps us understand the scope and scale of our dataset."
   ]
  },
  {
   "cell_type": "markdown",
   "id": "c96f9ae1-6d0e-472d-919b-9cc7a10cbd9d",
   "metadata": {},
   "source": [
    "---"
   ]
  },
  {
   "cell_type": "markdown",
   "id": "a0872957-b5dc-4aea-be7c-30fac9c1ccb5",
   "metadata": {},
   "source": [
    "## **4.2 Checking Dataset Features**"
   ]
  },
  {
   "cell_type": "markdown",
   "id": "d34aaa76-23ae-47d1-8945-97256e0dcf74",
   "metadata": {},
   "source": [
    "Next, we delve deeper into the columns of our DataFrame, much like how Hermione would meticulously study her textbooks. Each column represents a different feature of our students, from their house to their magical abilities."
   ]
  },
  {
   "cell_type": "code",
   "execution_count": 64,
   "id": "1cdfac28-6093-4d94-9e39-b122dcf34c31",
   "metadata": {},
   "outputs": [
    {
     "name": "stdout",
     "output_type": "stream",
     "text": [
      "Index(['name', 'gender', 'age', 'origin', 'specialty', 'house', 'blood_status',\n",
      "       'pet', 'wand_type', 'patronus', 'quidditch_position', 'boggart',\n",
      "       'favorite_class', 'house_points'],\n",
      "      dtype='object')\n"
     ]
    }
   ],
   "source": [
    "# Displaying the columns of the dataset\n",
    "print(hogwarts_df.columns)"
   ]
  },
  {
   "cell_type": "markdown",
   "id": "9fe952ab-5784-464c-a293-9358e2998e5e",
   "metadata": {},
   "source": [
    "As the magic spell finished its wizardry, the previous magical spell reveal the following **hidden artifacts**.\n"
   ]
  },
  {
   "cell_type": "markdown",
   "id": "415037dc-9183-474e-810c-7b41f296825c",
   "metadata": {},
   "source": [
    "Let us explore these features, each as significant as a spell component in a well-crafted incantation:\n",
    "\n",
    "- **Name**: The given name of our witch or wizard, from the illustrious Harry Potter to the enigmatic Luna Lovegood. 🌟\n",
    "- **Gender**: Whether they are a young wizard or witch, reflecting the diversity of Hogwarts.\n",
    "- **Age**: Their age at the time of sorting, for even the youngest students have their place in the castle's storied history.\n",
    "- **Origin**: The place they hail from, be it the rolling hills of England, the rugged highlands of Scotland, or the enchanting isles of Ireland. 🏞️\n",
    "- **Specialty**: Their area of magical expertise, such as Potions, Transfiguration, or Defense Against the Dark Arts, much like Professor Snape’s mastery of the subtle art of potion-making.\n",
    "- **House**: The revered house to which they belong—Gryffindor, Hufflepuff, Ravenclaw, or Slytherin—each with its own rich traditions and values.\n",
    "- **Blood Status**: Whether they are Pure-blood, Half-blood, or Muggle-born, a detail that, while significant in the wizarding world, never diminishes their magical potential.\n",
    "- **Pet**: Their chosen magical companion, be it an owl, a cat, or a toad, reminiscent of Harry's loyal Hedwig or Hermione's clever Crookshanks. 🦉🐈\n",
    "- **Wand Type**: The wood and core of their wand, the very tool of their magical prowess.\n",
    "- **Patronus**: The form their Patronus takes, a magical manifestation of their innermost self, like Harry's proud stag or Snape's ethereal doe. 🦌\n",
    "- **Quidditch Position**: Their role in the beloved wizarding sport, whether Seeker, Chaser, Beater, or Keeper, or perhaps no position at all.\n",
    "- **Boggart**: The form their Boggart takes, a glimpse into their deepest fears.\n",
    "- **Favorite Class**: The subject they excel in or enjoy the most, akin to Hermione's love for Arithmancy or Neville's talent in Herbology.\n",
    "- **House Points**: Points they have contributed to their house, reflecting their achievements and misadventures alike.\n",
    "\n",
    "With this compendium of magical features, we craft our dataset with the precision of a spell-wright composing a new enchantment. Each character's details are meticulously recorded, ensuring that our data is as rich and detailed as the tapestry of Hogwarts itself.🧙‍♂️🏰\n",
    "\n",
    "By examining these features, we gain a deeper understanding of the dataset's richness, much like a wizard learning about the different properties of magical creatures. And you're guessing correctly sorcerers, the dataset consists of 52 rows and 14 columns.✨🌟\n",
    "\n",
    "As we assemble this treasure trove of information, we prepare ourselves for the next step in our magical journey—transforming these attributes into the foundations upon which our **Decision Tree** algorithm will cast its spell. Let us proceed, dear sorcerers, for the magic is only just beginning.✨🧙‍♂️ \n"
   ]
  },
  {
   "cell_type": "code",
   "execution_count": 65,
   "id": "227bc434-1c16-47b7-b0ae-d134155fbcd8",
   "metadata": {},
   "outputs": [
    {
     "name": "stdout",
     "output_type": "stream",
     "text": [
      "(52, 14)\n"
     ]
    }
   ],
   "source": [
    "# Displaying the how many rows and columns in the dataset\n",
    "print(hogwarts_df.shape)"
   ]
  },
  {
   "cell_type": "markdown",
   "id": "15d75cc9-52c0-4887-9aa3-835a4c513d0a",
   "metadata": {},
   "source": [
    "With this compendium of magical features, we craft our dataset with the precision of a spell-wright composing a new enchantment. Each character's details are meticulously recorded, ensuring that our data is as rich and detailed as the tapestry of Hogwarts itself.🧙‍♂️🏰\n",
    "\n",
    "By examining these features, we gain a deeper understanding of the dataset's richness, much like a wizard learning about the different properties of magical creatures. And you're guessing correctly sorcerers, the dataset consists of 52 rows and 14 columns.✨🌟\n",
    "\n",
    "As we assemble this treasure trove of information, we prepare ourselves for the next step in our magical journey—transforming these attributes into the foundations upon which our Decision Tree algorithm will cast its spell. Let us proceed, dear sorcerers, for the magic is only just beginning.✨🧙‍♂️"
   ]
  },
  {
   "cell_type": "markdown",
   "id": "443b1a8e-352e-4321-ac42-29315d3febd7",
   "metadata": {},
   "source": [
    "---"
   ]
  },
  {
   "cell_type": "markdown",
   "id": "777bb046-8389-475f-a29d-e46f44114d80",
   "metadata": {},
   "source": [
    "## **4.3 Inspecting Data Types**"
   ]
  },
  {
   "cell_type": "markdown",
   "id": "804e2ba5-40a0-411c-aad5-ff048c976403",
   "metadata": {},
   "source": [
    "With a clear understanding of our features, we now turn our attention to the data types. This step is akin to examining the ingredients of a potion, ensuring each component is appropriate for its intended use."
   ]
  },
  {
   "cell_type": "markdown",
   "id": "5ee778ef-3b1d-4766-b6fe-b9245fc250c3",
   "metadata": {},
   "source": [
    "And in return, the previous magic spell would yield us, dear sorcerers the following incarnations."
   ]
  },
  {
   "cell_type": "code",
   "execution_count": 66,
   "id": "c89a0dc1-1cef-4e7d-921f-5ebb4c3749fe",
   "metadata": {},
   "outputs": [
    {
     "name": "stdout",
     "output_type": "stream",
     "text": [
      "name                   object\n",
      "gender                 object\n",
      "age                     int64\n",
      "origin                 object\n",
      "specialty              object\n",
      "house                  object\n",
      "blood_status           object\n",
      "pet                    object\n",
      "wand_type              object\n",
      "patronus               object\n",
      "quidditch_position     object\n",
      "boggart                object\n",
      "favorite_class         object\n",
      "house_points          float64\n",
      "dtype: object\n"
     ]
    }
   ],
   "source": [
    "# Checking the data types of each column\n",
    "print(hogwarts_df.dtypes)"
   ]
  },
  {
   "cell_type": "markdown",
   "id": "18e1eec5-7083-4429-949a-709723ba7794",
   "metadata": {},
   "source": [
    "The data types tell us whether each column contains numerical values, text, or other forms of data. For instance, Age should be a numerical type, while Name and House are text (or string) types. Ensuring these types are correct is crucial for our subsequent analyses and visualizations."
   ]
  },
  {
   "cell_type": "markdown",
   "id": "b5adad95-3b36-4bb5-b252-0ad7fd619ecd",
   "metadata": {},
   "source": [
    "---"
   ]
  },
  {
   "cell_type": "markdown",
   "id": "7b1dec00-8415-4ae7-a783-7f05c6e4763d",
   "metadata": {},
   "source": [
    "## **4.4 Incorrect Data Type**"
   ]
  },
  {
   "cell_type": "markdown",
   "id": "02cfc4bc-6aab-4686-8782-98414cd77152",
   "metadata": {},
   "source": [
    "Occasionally, we may find discrepancies in the data types, much like finding a rogue ingredient in a potion. Correcting these mismatches is essential to ensure the accuracy of our spells (or analyses)."
   ]
  },
  {
   "cell_type": "code",
   "execution_count": 71,
   "id": "4dcf2b40-f536-46c4-a631-52e125f5b8fb",
   "metadata": {},
   "outputs": [
    {
     "name": "stdout",
     "output_type": "stream",
     "text": [
      "Index(['name', 'gender', 'age', 'origin', 'specialty', 'house', 'blood_status',\n",
      "       'pet', 'wand_type', 'patronus', 'quidditch_position', 'boggart',\n",
      "       'favorite_class', 'house_points'],\n",
      "      dtype='object')\n",
      "name                    object\n",
      "gender                category\n",
      "age                      int64\n",
      "origin                  object\n",
      "specialty             category\n",
      "house                 category\n",
      "blood_status          category\n",
      "pet                   category\n",
      "wand_type             category\n",
      "patronus                object\n",
      "quidditch_position    category\n",
      "boggart                 object\n",
      "favorite_class        category\n",
      "house_points           float64\n",
      "dtype: object\n"
     ]
    }
   ],
   "source": [
    "# Converting data types if necessary\n",
    "# First, let's check the columns again to identify the correct names\n",
    "print(hogwarts_df.columns)\n",
    "\n",
    "# Assuming we identified 'age' as the correct column name for age\n",
    "hogwarts_df['age'] = pd.to_numeric(hogwarts_df['age'], errors='coerce')  # Ensure Age is numeric\n",
    "\n",
    "# Ensuring 'gender' is categorical\n",
    "hogwarts_df['gender'] = hogwarts_df['gender'].astype('category')  # Ensure Gender is categorical\n",
    "\n",
    "# Ensuring 'specialty' is categorical\n",
    "hogwarts_df['specialty'] = hogwarts_df['specialty'].astype('category')  # Ensure House is categorical\n",
    "\n",
    "# Ensuring 'house' is categorical\n",
    "hogwarts_df['house'] = hogwarts_df['house'].astype('category')  # Ensure House is categorical\n",
    "\n",
    "# Ensuring 'blood_status' is categorical\n",
    "hogwarts_df['blood_status'] = hogwarts_df['blood_status'].astype('category')  # Ensure House is categorical\n",
    "\n",
    "# Ensuring 'pet' is categorical\n",
    "hogwarts_df['pet'] = hogwarts_df['pet'].astype('category')  # Ensure pet is categorical\n",
    "\n",
    "# Ensuring 'pet' is categorical\n",
    "hogwarts_df['wand_type'] = hogwarts_df['wand_type'].astype('category')  # Ensure pet is categorical\n",
    "\n",
    "# Ensuring 'quidditch_position' is categorical\n",
    "hogwarts_df['quidditch_position'] = hogwarts_df['quidditch_position'].astype('category')  # Ensure quidditch_position is categorical\n",
    "\n",
    "# Ensuring 'favorite_class' is categorical\n",
    "hogwarts_df['favorite_class'] = hogwarts_df['favorite_class'].astype('category')  # Ensure favorite_class is categorical\n",
    "\n",
    "# Verify the data types after conversion\n",
    "print(hogwarts_df.dtypes)"
   ]
  },
  {
   "cell_type": "markdown",
   "id": "2400bb2b-73b9-493d-8063-937451abf290",
   "metadata": {},
   "source": [
    "Sure! Here's an overview of the data types supported by Pandas, along with example values and methods to convert between different types.\n",
    "\n",
    "### Pandas Data Types\n",
    "\n",
    "| Data Type | Description | Example Values | Conversion Method |\n",
    "|-----------|-------------|----------------|--------------------|\n",
    "| **int64** | Integer values | 1, 2, 3, -5, 0 | `pd.to_numeric(df['column'])` |\n",
    "| **float64** | Floating point numbers | 1.0, 2.5, -3.4, 0.0 | `pd.to_numeric(df['column'])` |\n",
    "| **bool** | Boolean values | True, False | `df['column'].astype('bool')` |\n",
    "| **object** | String values | 'apple', 'banana', '123' | `df['column'].astype('str')` |\n",
    "| **datetime64[ns]** | Date and time values | '2024-07-17', '2023-01-01 12:00' | `pd.to_datetime(df['column'])` |\n",
    "| **timedelta[ns]** | Differences between datetimes | '1 days 00:00:00', '2 days 03:04:05' | `pd.to_timedelta(df['column'])` |\n",
    "| **category** | Categorical data | 'A', 'B', 'C' | `df['column'].astype('category')` |\n",
    "\n",
    "### Example DataFrame and Conversions\n",
    "\n",
    "Let's create a DataFrame with various data types and demonstrate how to convert them.\n",
    "\n",
    "```python\n",
    "import pandas as pd\n",
    "\n",
    "# Sample DataFrame\n",
    "data = {\n",
    "    'integers': [1, 2, 3, 4],\n",
    "    'floats': [1.1, 2.2, 3.3, 4.4],\n",
    "    'booleans': [True, False, True, False],\n",
    "    'strings': ['apple', 'banana', 'cherry', 'date'],\n",
    "    'datetimes': ['2024-07-17', '2023-01-01', '2022-12-31', '2021-07-17']\n",
    "}\n",
    "\n",
    "df = pd.DataFrame(data)\n",
    "\n",
    "# Convert data types\n",
    "df['integers'] = df['integers'].astype('int64')\n",
    "df['floats'] = df['floats'].astype('float64')\n",
    "df['booleans'] = df['booleans'].astype('bool')\n",
    "df['strings'] = df['strings'].astype('object')\n",
    "df['datetimes'] = pd.to_datetime(df['datetimes'])\n",
    "\n",
    "# Display DataFrame\n",
    "print(df.dtypes)\n",
    "print(df)\n",
    "```\n",
    "\n",
    "### Changing Data Types\n",
    "\n",
    "You can use `astype()` for most conversions, `pd.to_datetime()` for datetime conversions, and `pd.to_timedelta()` for timedelta conversions.\n",
    "\n",
    "```python\n",
    "# Convert integer to float\n",
    "df['integers'] = df['integers'].astype('float64')\n",
    "\n",
    "# Convert float to integer\n",
    "df['floats'] = df['floats'].astype('int64')\n",
    "\n",
    "# Convert string to category\n",
    "df['strings'] = df['strings'].astype('category')\n",
    "\n",
    "# Convert datetime to string\n",
    "df['datetimes'] = df['datetimes'].astype('str')\n",
    "\n",
    "# Display updated DataFrame\n",
    "print(df.dtypes)\n",
    "print(df)\n",
    "```"
   ]
  },
  {
   "cell_type": "markdown",
   "id": "7b6aef58-6c82-47b7-8d85-ab59af90c76b",
   "metadata": {},
   "source": [
    "By casting these spells, we ensure that each column is of the appropriate type, ready for further exploration and manipulation. This step is much like Snape meticulously adjusting the ingredients of a complex potion to achieve the perfect brew."
   ]
  },
  {
   "cell_type": "markdown",
   "id": "ac3dc9a8-1a88-4405-a654-c8f1c865d309",
   "metadata": {},
   "source": [
    "---"
   ]
  },
  {
   "cell_type": "markdown",
   "id": "c59e27ed-a3b2-40c7-8a80-be747ad1303f",
   "metadata": {},
   "source": [
    "## **4.5 Preview the Whole Dataset**"
   ]
  },
  {
   "cell_type": "markdown",
   "id": "c9f89e5c-bfef-4c10-b0c0-bf6f49c36f17",
   "metadata": {},
   "source": [
    "Having ensured the correctness of our data types, it's time to take a more comprehensive look at our dataset. This step is akin to casting a revealing charm over a hidden room, allowing us to see everything at once."
   ]
  },
  {
   "cell_type": "code",
   "execution_count": 72,
   "id": "13d132bf-1cbc-405b-bcf1-6bcf193caa8d",
   "metadata": {},
   "outputs": [
    {
     "name": "stdout",
     "output_type": "stream",
     "text": [
      "<class 'pandas.core.frame.DataFrame'>\n",
      "RangeIndex: 52 entries, 0 to 51\n",
      "Data columns (total 14 columns):\n",
      " #   Column              Non-Null Count  Dtype   \n",
      "---  ------              --------------  -----   \n",
      " 0   name                52 non-null     object  \n",
      " 1   gender              52 non-null     category\n",
      " 2   age                 52 non-null     int64   \n",
      " 3   origin              52 non-null     object  \n",
      " 4   specialty           52 non-null     category\n",
      " 5   house               52 non-null     category\n",
      " 6   blood_status        52 non-null     category\n",
      " 7   pet                 27 non-null     category\n",
      " 8   wand_type           52 non-null     category\n",
      " 9   patronus            50 non-null     object  \n",
      " 10  quidditch_position  10 non-null     category\n",
      " 11  boggart             52 non-null     object  \n",
      " 12  favorite_class      51 non-null     category\n",
      " 13  house_points        50 non-null     float64 \n",
      "dtypes: category(8), float64(1), int64(1), object(4)\n",
      "memory usage: 6.8+ KB\n",
      "None\n"
     ]
    }
   ],
   "source": [
    "# Displaying a summary of the entire dataset\n",
    "print(hogwarts_df.info())"
   ]
  },
  {
   "cell_type": "code",
   "execution_count": null,
   "id": "93b09274-9bc6-4b10-8f39-cfe96f909693",
   "metadata": {},
   "outputs": [],
   "source": [
    "print(hogwarts_df.describe(include='all'))  # Providing a detailed summary of the dataset"
   ]
  }
 ],
 "metadata": {
  "kernelspec": {
   "display_name": "Python 3 (ipykernel)",
   "language": "python",
   "name": "python3"
  },
  "language_info": {
   "codemirror_mode": {
    "name": "ipython",
    "version": 3
   },
   "file_extension": ".py",
   "mimetype": "text/x-python",
   "name": "python",
   "nbconvert_exporter": "python",
   "pygments_lexer": "ipython3",
   "version": "3.8.0"
  }
 },
 "nbformat": 4,
 "nbformat_minor": 5
}
