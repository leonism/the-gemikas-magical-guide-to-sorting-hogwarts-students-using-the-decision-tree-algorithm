{
 "cells": [
  {
   "cell_type": "markdown",
   "id": "c975deea-42e3-4477-b5f2-6ed4ba7cdc40",
   "metadata": {},
   "source": [
    "# The Gemika's Magical Guide to Sorting Hogwarts Students using the Decision Tree Algorithm (Part #2)\n",
    "\n",
    "![machine-learning-03.jpg](images/machine-learning-29.jpg)"
   ]
  },
  {
   "cell_type": "markdown",
   "id": "0a56fd95-927c-4275-a91b-409d6ff6a918",
   "metadata": {},
   "source": [
    "## 2. Preparing Your Wand: Setting Up Your Magical Tools 🪄\n",
    "\n",
    "_Ah_, young **wizards and witches**, before we can embark on our journey through the enchanted world of **data science**, we must first prepare our **wands** — or in this case, our computers. Just as a wand chooses the wizard, the right tools will choose the data scientist. For our journey into the enchanted realm of data science, we shall need the right incantations and artifacts—beginning with the installation of Python, the most essential of all. \n",
    "\n",
    "Just as a wizard requires a wand, a data scientist requires Python to cast their spells. Let’s gather around the cauldron and brew a potion of installations, setting up [Python](https://www.python.org/) and [Jupyter Notebook](https://jupyter.org/), which will be our magical companions in this adventure. 🪄✨"
   ]
  },
  {
   "cell_type": "markdown",
   "id": "f863e127-59ba-4b78-9bad-bdbbf8f65c8c",
   "metadata": {},
   "source": [
    "## 2.1 **Installing Python**\n",
    "\n",
    "As we gather in the dimly lit classroom of Professor McGonagall's Transfiguration, our wands at the ready, we must first ensure that our magical tools are properly prepared. For our journey into the enchanted realm of data science, we shall need the right incantations and artifacts—beginning with the installation of Python, the most essential of all. Just as a wizard requires a wand, a data scientist requires Python to cast their spells.\n",
    "\n",
    "### 2.1.1 **Windows Operating System**\n",
    "\n",
    "To summon Python on a Windows machine, visit the Python website and download the installer. Once downloaded, run the installer and be sure to check the box that says `\"Add Python to PATH\"` before you proceed. This ensures that the Python magic is accessible from anywhere on your system.\n",
    "\n",
    "- Visit the [Python website](https://www.python.org/downloads/windows/).\n",
    "- Download the latest version of Python.\n",
    "- Run the installer and make sure to check the box that says `\"Add Python \n",
    "to PATH\"` before clicking \"Install Now\".\n",
    "\n",
    "### 2.1.2 **macOS Operating System**\n",
    "\n",
    "For those with the heart of a lion and the spirit of a **Gryffindor**, macOS users can summon Python using Homebrew, a magical package manager. Open your Terminal and cast the following spells:\n",
    "\n",
    "- Open the Terminal, if you don't know what a Terminal is or where to locate them, click the Launchpad icon in the Dock, type Terminal in the search field, then click Terminal. In the Finder , open the `/Applications/Utilities` folder, then double-click Terminal.\n",
    "- Use [Homebrew](https://brew.sh/) (a package manager for macOS). If you don't have Homebrew, install it first by running:   \n",
    "\n",
    "```sh\n",
    "/bin/bash -c \"$(curl -fsSL https://raw.githubusercontent.com/Homebrew/install/HEAD/install.sh)\"\n",
    "```\n",
    "- Once Homebrew is installed, run:\n",
    "\n",
    "```sh\n",
    "brew install python\n",
    "```\n",
    "\n",
    "### 2.1.3 **Linux Operating System**\n",
    "\n",
    "The wizards and witches of the Linux world can summon Python using their distribution's package manager. For Debian-based systems, use `apt-get`.\n",
    "\n",
    "- Open the Terminal, using the shortcut key: The most common way to open the terminal is by pressing the `\"Ctrl + Alt + T\"` keys simultaneously. From the applications menu, some Linux distributions have a terminal icon in the applications menu that you can click to open.\n",
    "- Run the following command to install Python:\n",
    "   \n",
    "```sh\n",
    "sudo apt-get update\n",
    "```\n",
    "\n",
    "```sh\n",
    "sudo apt-get install python3\n",
    "```\n",
    "\n",
    "With Python installed, our wands are now primed and ready for the next enchantment. ✨\n",
    "\n",
    "---"
   ]
  },
  {
   "cell_type": "markdown",
   "id": "bcf4ddc4-1679-4325-bb8d-b1723ac68a79",
   "metadata": {},
   "source": [
    "## 2.2 Installing Libraries with Pip\n",
    "\n",
    "Once Python is installed, we need to equip ourselves with the essential libraries. These libraries are like potion ingredients, each adding its own special property to our spells. We shall use pip, Python's package installer, to fetch these magical ingredients. To cast our data science spells, we need a few key libraries: `pandas`, `numpy`, `matplotlib`, and `seaborn`. Think of these as the potions and ingredients essential for our magical experiments from our Terminal.\n",
    "\n",
    "```shell\n",
    "# Install Pandas for data manipulation\n",
    "pip install pandas\n",
    "```\n",
    "\n",
    "```shell\n",
    "# Install NumPy for numerical operations\n",
    "pip install numpy\n",
    "```\n",
    "\n",
    "```shell\n",
    "# Install Matplotlib and Seaborn for data visualization\n",
    "pip install matplotlib seaborn\n",
    "```\n",
    "\n",
    "```shell\n",
    "# Install Scikit-Learn for machine learning algorithms\n",
    "pip install scikit-learn\n",
    "```\n",
    "\n",
    "Here's the spell (script) to cast in your terminal:\n",
    "\n",
    "```python\n",
    "# Importing essential libraries (if needed)\n",
    "import os\n",
    "\n",
    "# Install necessary libraries\n",
    "os.system('pip install pandas numpy matplotlib seaborn')\n",
    "```\n",
    "\n",
    "---"
   ]
  },
  {
   "cell_type": "markdown",
   "id": "bed645ea-9999-403f-bbf3-0d27092818f7",
   "metadata": {},
   "source": [
    "## 2.3 Installing Jupyter Notebook\n",
    "\n",
    "_Ah_, Jupyter Notebook! Our magical parchment where we’ll inscribe our spells (code) and see the results unfold before our eyes. Jupyter Notebook is our enchanted scroll, a place where we can write, run, and visualize our code. It is where our spells come to life. To install Jupyter Notebook, is as simple as waving your wand, cast the following incantation in your command line :\n",
    "\n",
    "```shell\n",
    "pip install jupyter\n",
    "```\n",
    "\n",
    "To launch Jupyter Notebook, simply use:\n",
    "\n",
    "```shell\n",
    "jupyter notebook\n",
    "```\n",
    "\n",
    "This will open a portal (web browser) to the realm where our magical scripts will come to life. Here's a preview once you've managed to download and properly installed them. 🌟\n",
    "\n",
    "![Gemika Haziq Nugroho's Pop-Up Quiz: Preparing Your Wand](https://dev-to-uploads.s3.amazonaws.com/uploads/articles/fgj9wapb1sam6yrkdd7v.png)\n",
    "\n",
    "---"
   ]
  },
  {
   "cell_type": "markdown",
   "id": "16fe2453-5076-4ea2-892c-f3cee69cda44",
   "metadata": {},
   "source": [
    "## 2.4 Gemika's Pop-Up Quiz: Preparing Your Wand 🧙‍♂️✨\n",
    "\n",
    "And now, a little challenge from young Gemika! Can you answer these questions to prove your readiness?\n",
    "\n",
    "1. What command do you use to install Python on macOS?\n",
    "2. How do you launch Jupyter Notebook after installation?\n",
    "3. Name the four essential libraries we installed with pip.\n",
    "\n",
    "Think carefully, and may your answers be as sharp as the fangs of a Hungarian Horntail! 🐉 Thus, with our wands (tools) at the ready, we are now prepared to delve deeper into the magical world of data science. Remember, the magic lies not just in the tools, but in how we wield them. \n",
    "\n",
    "Together, we'll uncover secrets and make predictions that even the greatest seers would envy. Now, with our wands (or rather, our Python installations) at the ready, we are prepared to dive deeper into the magical world of data science. May your journey be filled with wonder and discovery! 🧙‍♂️✨ Onward, to [our next adventure](https://dev.to/gerryleonugroho/the-gemikas-magical-guide-to-sorting-hogwarts-students-using-the-decision-tree-algorithm-part-3-4naa)! 🧙‍♂️✨"
   ]
  }
 ],
 "metadata": {
  "kernelspec": {
   "display_name": "Python 3 (ipykernel)",
   "language": "python",
   "name": "python3"
  },
  "language_info": {
   "codemirror_mode": {
    "name": "ipython",
    "version": 3
   },
   "file_extension": ".py",
   "mimetype": "text/x-python",
   "name": "python",
   "nbconvert_exporter": "python",
   "pygments_lexer": "ipython3",
   "version": "3.8.0"
  }
 },
 "nbformat": 4,
 "nbformat_minor": 5
}
