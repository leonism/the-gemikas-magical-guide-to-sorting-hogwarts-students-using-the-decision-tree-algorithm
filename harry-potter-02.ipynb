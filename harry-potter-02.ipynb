{
 "cells": [
  {
   "cell_type": "markdown",
   "id": "c975deea-42e3-4477-b5f2-6ed4ba7cdc40",
   "metadata": {
    "editable": true,
    "slideshow": {
     "slide_type": ""
    },
    "tags": []
   },
   "source": [
    "# The Gemika's Magical Guide to Sorting Hogwarts Students using the Decision Tree Algorithm (Part #2)\n",
    "\n",
    "![machine-learning-03.jpg](images/machine-learning-29.jpg)"
   ]
  },
  {
   "cell_type": "markdown",
   "id": "52c15c7b-0231-4d5f-b9c0-5150152a1027",
   "metadata": {},
   "source": [
    "## 2. Preparing Your Wand: Setting Up Your Magical Tools 🪄"
   ]
  },
  {
   "cell_type": "markdown",
   "id": "0a56fd95-927c-4275-a91b-409d6ff6a918",
   "metadata": {},
   "source": [
    "_Ah_, young **wizards and witches**, before we can embark on our journey through the enchanted world of **data science**, we must first prepare our **wands** — or in this case, our computers. Just as a wand chooses the wizard, the right tools will choose the data scientist. For our journey into the enchanted realm of data science, we shall need the right incantations and artifacts—beginning with the installation of Python, the most essential of all. \n",
    "\n",
    "Just as a wizard requires a wand, a data scientist requires Python to cast their spells. Let’s gather around the cauldron and brew a potion of installations, setting up [Python](https://www.python.org/) and [Jupyter Notebook](https://jupyter.org/), which will be our magical companions in this adventure. 🪄✨"
   ]
  },
  {
   "cell_type": "markdown",
   "id": "646a972a-6e2a-410a-a2be-e3358b7b2f77",
   "metadata": {},
   "source": [
    "---"
   ]
  },
  {
   "cell_type": "markdown",
   "id": "acc1cf7f-2ebf-4491-9e64-3cff6875b81e",
   "metadata": {},
   "source": [
    "## 2.1 **Installing Python** 🐍🧙‍♂️"
   ]
  },
  {
   "cell_type": "markdown",
   "id": "f863e127-59ba-4b78-9bad-bdbbf8f65c8c",
   "metadata": {},
   "source": [
    "Imagine a grand, ancient library, its shelves brimming with enchanted tomes of knowledge. This is where we, young wizards and witches, must venture to acquire our most potent tool: **Python**. Just as a wand chooses a wizard, Python will become our faithful companion in the magical realm of data science. 🪄🐍\n",
    "\n",
    "Python is no ordinary language; it's a spellbook of extraordinary power, capable of conjuring intricate patterns from raw data. With Python, we can transfigure numbers into meaningful insights, just as Professor McGonagall transforms animals into objects. It is the cornerstone of our magical education, the foundation upon which we shall build our data sorcery. 🧙‍♂️\n",
    "\n",
    "To summon Python onto your computer, you must embark on a digital quest. Seek out the Python website, a mystical portal to this wondrous language. Download the installer, a magical elixir that will infuse your computer with Python's essence. Once downloaded, run the installer, and with a final, decisive click, you will have summoned Python to your aid. 🏰\n",
    " \n",
    "With Python at your side, you are ready to embark on a thrilling adventure through the enchanted forest of data. Let your imagination soar, for the possibilities are as boundless as the starry sky. 🌌✨\n",
    "\n",
    "### 2.1.1 **Windows Operating System**\n",
    "\n",
    "To summon Python on a Windows machine, visit the Python website and download the installer. Once downloaded, run the installer and be sure to check the box that says `\"Add Python to PATH\"` before you proceed. This ensures that the Python magic is accessible from anywhere on your system.\n",
    "\n",
    "- Visit the [Python website](https://www.python.org/downloads/windows/).\n",
    "- Download the latest version of Python.\n",
    "- Run the installer and make sure to check the box that says `\"Add Python to PATH\"` before clicking \"Install Now\".\n",
    "\n",
    "### 2.1.2 **Mac OS Operating System**\n",
    "\n",
    "For those with the heart of a lion and the spirit of a **Gryffindor**, macOS users can summon Python using Homebrew, a magical package manager. Open your Terminal and cast the following spells:\n",
    "\n",
    "- Open the Terminal, if you don't know what a Terminal is or where to locate them, click the Launchpad icon in the Dock, type Terminal in the search field, then click Terminal.\n",
    "- In the Finder , open the `/Applications/Utilities` folder, then double-click Terminal.\n",
    "- Use [Homebrew](https://brew.sh/) (a package manager for macOS). If you don't have Homebrew, install it first by running:   \n",
    "\n",
    "```sh\n",
    "/bin/bash -c \"$(curl -fsSL https://raw.githubusercontent.com/Homebrew/install/HEAD/install.sh)\"\n",
    "```\n",
    "- Once Homebrew is installed, run:\n",
    "\n",
    "```sh\n",
    "brew install python\n",
    "```\n",
    "\n",
    "- And to verify your installation, run the following :\n",
    "\n",
    "```sh\n",
    "which python\n",
    "```\n",
    "\n",
    "And\n",
    "\n",
    "```sh\n",
    "python version\n",
    "```\n",
    "\n",
    "### 2.1.3 **Linux Operating System**\n",
    "\n",
    "The wizards and witches of the Linux world can summon Python using their distribution's package manager. For Debian-based systems, use apt-get\n",
    "\n",
    "- Open the Terminal, using the shortcut key: The most common way to open the terminal is by pressing the `\"Ctrl + Alt + T\"` keys simultaneously.\n",
    "- From the applications menu, some Linux distributions have a terminal icon in the applications menu that you can click to open.\n",
    "- Run the following command to install Python:\n",
    "   \n",
    "```sh\n",
    "sudo apt-get update\n",
    "```\n",
    "\n",
    "And\n",
    "\n",
    "```sh\n",
    "sudo apt-get install python3\n",
    "```\n",
    "\n",
    "- And to verify your installation, run the following :\n",
    "\n",
    "```sh\n",
    "which python\n",
    "```\n",
    "\n",
    "```sh\n",
    "python version\n",
    "```\n",
    "\n",
    "With Python installed, our wands are now primed and ready for the next enchantment. ✨"
   ]
  },
  {
   "cell_type": "markdown",
   "id": "6f3d0a8a-ad75-4a4b-8b5a-9b1b099981b3",
   "metadata": {},
   "source": [
    "---"
   ]
  },
  {
   "cell_type": "markdown",
   "id": "c7595853-2ad4-46bd-bea1-afaf4498f937",
   "metadata": {},
   "source": [
    "## 2.2 Installing Libraries with Pip ✨🧪"
   ]
  },
  {
   "cell_type": "markdown",
   "id": "bcf4ddc4-1679-4325-bb8d-b1723ac68a79",
   "metadata": {},
   "source": [
    "Just as a skilled `potioneer` requires specific ingredients to brew a powerful `elixir`, a data wizard needs essential tools to conjure meaningful insights from raw data. These tools come in the form of **Python libraries**, magical artifacts brimming with spells and enchantments. 🪄\n",
    "\n",
    "To acquire these invaluable resources, we turn to **pip**, a magical incantation that summons libraries from the vast digital realm. Think of pip as a wise old owl, delivering packages of knowledge straight to our wizarding workstation. 🦉\n",
    "\n",
    "Among the libraries we seek are four particularly potent elixirs: **pandas**, **numpy**, **matplotlib**, and **seaborn**. `Pandas`, a versatile potion, grants us the power to organize and manipulate data with unparalleled precision. It transforms raw information into structured tables, ready for further enchantment. 📊\n",
    "\n",
    "`Numpy`, another essential ingredient, bestows upon us the ability to perform complex mathematical operations with astonishing speed. Numbers dance and swirl at our command, forming the foundation for our data-driven spells. 🧮\n",
    "\n",
    "`Matplotlib` and `seaborn`, our visualization masters, allow us to transform cold, hard data into captivating visual stories. With a flick of our coding wand, we can conjure mesmerizing charts and graphs that reveal hidden patterns and trends. 🖼️🎨\n",
    "\n",
    "Armed with these magical libraries, we are ready to embark on our data-driven adventure. Let the enchantment begin! ✨🧪✨\n",
    "\n",
    "\n",
    "```shell\n",
    "# Install Pandas for data manipulation\n",
    "pip install pandas\n",
    "```\n",
    "\n",
    "```shell\n",
    "# Install NumPy for numerical operations\n",
    "pip install numpy\n",
    "```\n",
    "\n",
    "```shell\n",
    "# Install Matplotlib and Seaborn for data visualization\n",
    "pip install matplotlib seaborn\n",
    "```\n",
    "\n",
    "```shell\n",
    "# Install Scikit-Learn for machine learning algorithms\n",
    "pip install scikit-learn\n",
    "```\n",
    "\n",
    "Here's the spell (script) to cast in your terminal:\n",
    "\n",
    "```python\n",
    "# Importing essential libraries (if needed)\n",
    "import os\n",
    "\n",
    "# Install necessary libraries\n",
    "os.system('pip install pandas numpy matplotlib seaborn')\n",
    "```"
   ]
  },
  {
   "cell_type": "markdown",
   "id": "9da2d6d0-0ea8-445c-be88-e578ddf63e68",
   "metadata": {},
   "source": [
    "---"
   ]
  },
  {
   "cell_type": "markdown",
   "id": "c382257b-fdc0-45e2-985e-1329418f6a44",
   "metadata": {},
   "source": [
    "## 2.3 Installing Jupyter Notebook 📜✨"
   ]
  },
  {
   "cell_type": "markdown",
   "id": "bed645ea-9999-403f-bbf3-0d27092818f7",
   "metadata": {},
   "source": [
    "_Ah_, Jupyter Notebook! Our magical parchment where we’ll inscribe our spells (code) and see the results unfold before our eyes. Jupyter Notebook is our enchanted scroll, a place where we can write, run, and visualize our code. It is where our spells come to life. To install Jupyter Notebook, is as simple as waving your wand, cast the following incantation in your command line :\n",
    "\n",
    "```shell\n",
    "pip install jupyter\n",
    "```\n",
    "\n",
    "To launch Jupyter Notebook, simply use:\n",
    "\n",
    "```shell\n",
    "jupyter notebook\n",
    "```\n",
    "\n",
    "This will open a portal (web browser) to the realm where our magical scripts will come to life. Here's a preview once you've managed to download and properly installed them. 🌟\n",
    "\n",
    "![Gemika Haziq Nugroho's Pop-Up Quiz: Preparing Your Wand](https://dev-to-uploads.s3.amazonaws.com/uploads/articles/fgj9wapb1sam6yrkdd7v.png)"
   ]
  },
  {
   "cell_type": "markdown",
   "id": "cf823072-4203-4b81-8031-3766fbb20048",
   "metadata": {},
   "source": [
    "---"
   ]
  },
  {
   "cell_type": "markdown",
   "id": "9d03382f-ae53-44e8-8209-37fd7bc53cb2",
   "metadata": {},
   "source": [
    "## 2.4 Gemika's Pop-Up Quiz: Preparing Your Wand 🧙‍♂️✨"
   ]
  },
  {
   "cell_type": "markdown",
   "id": "16fe2453-5076-4ea2-892c-f3cee69cda44",
   "metadata": {},
   "source": [
    "![machine-learning-43.jpg](images/machine-learning-43.jpg)\n",
    "\n",
    "And now, a little challenge from young Gemika! Can you answer these questions to prove your readiness?\n",
    "\n",
    "1. **What command do you use to install Python on macOS**?\n",
    "2. **How do you launch Jupyter Notebook after installation**?\n",
    "3. **Name the four essential libraries we installed with pip**.\n",
    "\n",
    "Think carefully, and may your answers be as sharp as the fangs of a Hungarian Horntail! 🐉 Thus, with our wands (tools) at the ready, we are now prepared to delve deeper into the magical world of data science. Remember, the magic lies not just in the tools, but in how we wield them. \n",
    "\n",
    "Together, we'll uncover secrets and make predictions that even the greatest seers would envy. Now, with our wands (or rather, our Python installations) at the ready, we are prepared to dive deeper into the magical world of data science. May your journey be filled with wonder and discovery! 🧙‍♂️✨ Onward, to [our next adventure](https://dev.to/gerryleonugroho/the-gemikas-magical-guide-to-sorting-hogwarts-students-using-the-decision-tree-algorithm-part-3-4naa)! 🧙‍♂️✨"
   ]
  },
  {
   "cell_type": "markdown",
   "id": "ec0a3c25-0724-48c6-9c4e-10bc25988749",
   "metadata": {
    "editable": true,
    "slideshow": {
     "slide_type": ""
    },
    "tags": []
   },
   "source": [
    "---"
   ]
  }
 ],
 "metadata": {
  "kernelspec": {
   "display_name": "Python 3 (ipykernel)",
   "language": "python",
   "name": "python3"
  },
  "language_info": {
   "codemirror_mode": {
    "name": "ipython",
    "version": 3
   },
   "file_extension": ".py",
   "mimetype": "text/x-python",
   "name": "python",
   "nbconvert_exporter": "python",
   "pygments_lexer": "ipython3",
   "version": "3.8.0"
  }
 },
 "nbformat": 4,
 "nbformat_minor": 5
}
