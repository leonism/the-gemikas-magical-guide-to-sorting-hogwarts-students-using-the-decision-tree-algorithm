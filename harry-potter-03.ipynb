{
 "cells": [
  {
   "cell_type": "markdown",
   "id": "c975deea-42e3-4477-b5f2-6ed4ba7cdc40",
   "metadata": {},
   "source": [
    "# The Gemika's Magical Guide to Sorting Hogwarts Students using the Decision Tree Algorithm (Part #3)\n",
    "\n",
    "![machine-learning-03.jpg](images/machine-learning-28.jpg)"
   ]
  },
  {
   "cell_type": "markdown",
   "id": "0a56fd95-927c-4275-a91b-409d6ff6a918",
   "metadata": {},
   "source": [
    "## 3. Exploring the Enchanted Dataset 🌟\n",
    "\n",
    "Welcome back, young **wizards and witches**! As we gather around the glowing hearth of the **Gryffindor** common room, it is time to delve into the heart of our magical quest: the enchanted dataset. Imagine this dataset as a map of the wizarding world, filled with secrets and mysteries waiting to be uncovered. Each row is a character, each column a spell, and together they tell the story of our beloved Hogwarts."
   ]
  },
  {
   "cell_type": "markdown",
   "id": "f863e127-59ba-4b78-9bad-bdbbf8f65c8c",
   "metadata": {},
   "source": [
    "### **3.1 Introduction to the Dataset**\n",
    "\n",
    "In the **wizarding world of data science**, our dataset is akin to the ancient scrolls stored in the Restricted Section of the Hogwarts Library. This particular dataset holds information about various **Hogwarts students**, their traits, and the houses they belong to. Much like the Sorting Hat, we will use this data to uncover patterns and predict future house placements. But first, let us familiarize ourselves with the contents of this magical scroll."
   ]
  },
  {
   "cell_type": "markdown",
   "id": "bcf4ddc4-1679-4325-bb8d-b1723ac68a79",
   "metadata": {},
   "source": [
    "### **3.2 Loading Libraries in Python**\n",
    "\n",
    "Before we can reveal the secrets of our dataset, we must first gather our magical tools. In the realm of data science, these tools come in the form of Python libraries. Think of them as our spell books, each containing powerful incantations that will help us manipulate and visualize our data. We will summon these libraries using the following spells:\n",
    "\n",
    "```python\n",
    "# Importing the necessary libraries for our magical journey\n",
    "import pandas as pd  # For data manipulation\n",
    "import numpy as np  # For numerical operations\n",
    "import matplotlib.pyplot as plt  # For data visualization\n",
    "import seaborn as sns  # For advanced data visualization\n",
    "\n",
    "# Ensuring our charts are in line with the Hogwarts aesthetic\n",
    "sns.set(style=\"whitegrid\")\n",
    "```"
   ]
  },
  {
   "cell_type": "markdown",
   "id": "bed645ea-9999-403f-bbf3-0d27092818f7",
   "metadata": {},
   "source": [
    "### **3.3 Reading the Dataset into a Pandas DataFrame**\n",
    "\n",
    "With our spell books at the ready, it is time to conjure the dataset into a form we can work with. Using the mystical powers of *[pandas](https://pandas.pydata.org/)*, we will transform the dataset into a DataFrame, much like [Professor McGonagall](https://harrypotter.fandom.com/wiki/Minerva_McGonagall) transfigures a desk into a pig. This DataFrame will be our primary tool for exploring and manipulating the data.\n",
    "\n",
    "```python\n",
    "# Reading the enchanted dataset into a Pandas DataFrame\n",
    "dataset_path = 'data/hogwarts-students.csv'  # Path to our dataset\n",
    "hogwarts_df = pd.read_csv(dataset_path)\n",
    "\n",
    "# Displaying the first few rows of the dataset to get a glimpse of its contents\n",
    "print(hogwarts_df.head())\n",
    "```\n",
    "\n",
    "This is how they would look like in your Jupyter Lab, simply just copy and paste the code, from the above section to your Jupyter Notebook as instructed from the [previous post](https://dev.to/gerryleonugroho/the-gemikas-magical-guide-to-sorting-hogwarts-students-using-the-decision-tree-algorithm-part-2-hm4), and don't forget to fire-up your Jupyter Lab environment by invoking the magic spell of `jupyter notebook`\n",
    "\n",
    "![Displaying the first few rows of the dataset to get a glimpse of its contents in Jupyter Lab](https://dev-to-uploads.s3.amazonaws.com/uploads/articles/faqrli9jrzqa920s041c.png)\n",
    "\n",
    "*Ah, look at that!* The first few rows of our DataFrame appear before us like the Marauder's Map, revealing the names, traits, and house placements of our fellow students. Each row tells a unique story, and together, they form the tapestry of Hogwarts.\n",
    "\n",
    "```\n",
    "                   name  gender  age   origin                      specialty  \\\n",
    "    0      Harry Potter    Male   11  England  Defense Against the Dark Arts   \n",
    "    1  Hermione Granger  Female   11  England                Transfiguration   \n",
    "    2       Ron Weasley    Male   11  England                          Chess   \n",
    "    3      Draco Malfoy    Male   11  England                        Potions   \n",
    "    4     Luna Lovegood  Female   11  Ireland                      Creatures   \n",
    "    \n",
    "            house blood_status  pet wand_type              patronus  \\\n",
    "    0  Gryffindor   Half-blood  Owl     Holly                  Stag   \n",
    "    1  Gryffindor  Muggle-born  Cat      Vine                 Otter   \n",
    "    2  Gryffindor   Pure-blood  Rat       Ash  Jack Russell Terrier   \n",
    "    3   Slytherin   Pure-blood  Owl  Hawthorn                   NaN   \n",
    "    4   Ravenclaw   Half-blood  NaN       Fir                  Hare   \n",
    "    \n",
    "      quidditch_position         boggart                 favorite_class  \\\n",
    "    0             Seeker        Dementor  Defense Against the Dark Arts   \n",
    "    1                NaN         Failure                     Arithmancy   \n",
    "    2             Keeper          Spider                         Charms   \n",
    "    3             Seeker  Lord Voldemort                        Potions   \n",
    "    4                NaN      Her mother                      Creatures   \n",
    "    \n",
    "       house_points  \n",
    "    0         150.0  \n",
    "    1         200.0  \n",
    "    2          50.0  \n",
    "    3         100.0  \n",
    "    4         120.0  \n",
    "```"
   ]
  },
  {
   "cell_type": "markdown",
   "id": "16fe2453-5076-4ea2-892c-f3cee69cda44",
   "metadata": {},
   "source": [
    "### **3.4 Gemika's Pop-Up Quiz: Exploring the Enchanted Dataset**\n",
    "\n",
    "And now, dear reader, my son **Gemika Haziq Nugroho** appears with a twinkle in his eye and a quiz in hand. He has prepared a series of questions to test your knowledge and ensure you are ready to proceed. Are you prepared to face the challenge?\n",
    "\n",
    "1. **What Python library is used to read the dataset into a DataFrame?**\n",
    "2. **How do you display the first few rows of a DataFrame?**\n",
    "3. **What is the purpose of the `sns.set(style=\"whitegrid\")` command?**\n",
    "\n",
    "Answer these questions correctly, and you will have proven your understanding of the enchanted dataset. Only then can we proceed to uncover the deeper mysteries that lie within. With our dataset unveiled and our understanding tested, we are now ready to embark on the next phase of our journey. The secrets of Hogwarts await, and with our wands and wisdom, we shall uncover them all. Onward, to adventure and discovery! 🌟✨🧙‍♂️"
   ]
  }
 ],
 "metadata": {
  "kernelspec": {
   "display_name": "Python 3 (ipykernel)",
   "language": "python",
   "name": "python3"
  },
  "language_info": {
   "codemirror_mode": {
    "name": "ipython",
    "version": 3
   },
   "file_extension": ".py",
   "mimetype": "text/x-python",
   "name": "python",
   "nbconvert_exporter": "python",
   "pygments_lexer": "ipython3",
   "version": "3.8.0"
  }
 },
 "nbformat": 4,
 "nbformat_minor": 5
}
