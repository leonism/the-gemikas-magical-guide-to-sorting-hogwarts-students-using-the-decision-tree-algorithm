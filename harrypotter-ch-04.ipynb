{
 "cells": [
  {
   "cell_type": "markdown",
   "id": "b52ecd13-b411-406f-ba73-2007e183be21",
   "metadata": {},
   "source": [
    "# 4. Unveiling the Mysteries: Data Exploration (EDA) 🔍"
   ]
  },
  {
   "cell_type": "markdown",
   "id": "a838cd33-08aa-45bf-bdf8-fcd703ab22fd",
   "metadata": {},
   "source": [
    "Welcome back to the enchanting halls of Hogwarts, dear sorcerers! As we continue our magical journey into the world of data science, it's time to unveil the **mysteries hidden** within our dataset. In this chapter, we'll embark on a series of explorations that will reveal the secrets of our enchanted scroll (or **dataset**). Think of this as delving into the depths of the **Room of Requirement**, where each discovery leads us to greater understanding. ✨🧙‍♂️"
   ]
  },
  {
   "cell_type": "markdown",
   "id": "90b3eb81-968a-44bc-938a-5f40fb732939",
   "metadata": {},
   "source": [
    "---"
   ]
  },
  {
   "cell_type": "markdown",
   "id": "32868195-4a26-4e46-8017-ac2ba1ec7e15",
   "metadata": {},
   "source": [
    "## **4.1 Inspecting First Few Rows**"
   ]
  },
  {
   "cell_type": "markdown",
   "id": "e2fc9ec6-c859-4062-a506-45ed8694c58e",
   "metadata": {},
   "source": [
    "Our first step is to take a glimpse at the first few rows of our dataset, much like opening the Marauder's Map for the first time. This will give us an initial understanding of the structure and contents of our data."
   ]
  },
  {
   "cell_type": "code",
   "execution_count": 63,
   "id": "b5dc1158-af47-4fc3-a0c9-ef6ac6c0e4e5",
   "metadata": {},
   "outputs": [
    {
     "name": "stdout",
     "output_type": "stream",
     "text": [
      "               name  gender  age   origin                      specialty  \\\n",
      "0      Harry Potter    Male   11  England  Defense Against the Dark Arts   \n",
      "1  Hermione Granger  Female   11  England                Transfiguration   \n",
      "2       Ron Weasley    Male   11  England                          Chess   \n",
      "3      Draco Malfoy    Male   11  England                        Potions   \n",
      "4     Luna Lovegood  Female   11  Ireland                      Creatures   \n",
      "\n",
      "        house blood_status  pet wand_type              patronus  \\\n",
      "0  Gryffindor   Half-blood  Owl     Holly                  Stag   \n",
      "1  Gryffindor  Muggle-born  Cat      Vine                 Otter   \n",
      "2  Gryffindor   Pure-blood  Rat       Ash  Jack Russell Terrier   \n",
      "3   Slytherin   Pure-blood  Owl  Hawthorn                   NaN   \n",
      "4   Ravenclaw   Half-blood  NaN       Fir                  Hare   \n",
      "\n",
      "  quidditch_position         boggart                 favorite_class  \\\n",
      "0             Seeker        Dementor  Defense Against the Dark Arts   \n",
      "1                NaN         Failure                     Arithmancy   \n",
      "2             Keeper          Spider                         Charms   \n",
      "3             Seeker  Lord Voldemort                        Potions   \n",
      "4                NaN      Her mother                      Creatures   \n",
      "\n",
      "   house_points  \n",
      "0         150.0  \n",
      "1         200.0  \n",
      "2          50.0  \n",
      "3         100.0  \n",
      "4         120.0  \n"
     ]
    }
   ],
   "source": [
    "# Inspecting the first few rows of the dataset\n",
    "dataset_path = 'data/hogwarts-students.csv'  # Path to our dataset\n",
    "hogwarts_df = pd.read_csv(dataset_path)\n",
    "print(hogwarts_df.head())"
   ]
  },
  {
   "cell_type": "markdown",
   "id": "9c8f4303-4aef-4b3e-be58-71e95855e3a9",
   "metadata": {},
   "source": [
    "As we peer into these rows, we see a variety of features such as **student names**, **house affiliations**, and **various traits**. Each **row is a story**, each **column a chapter**. We might notice, for example, that **Harry, Hermione, and Ron** are all in **_Gryffindor_**, characterized by their bravery and determination. This initial inspection helps us understand the scope and scale of our dataset."
   ]
  },
  {
   "cell_type": "markdown",
   "id": "c96f9ae1-6d0e-472d-919b-9cc7a10cbd9d",
   "metadata": {},
   "source": [
    "---"
   ]
  },
  {
   "cell_type": "markdown",
   "id": "a0872957-b5dc-4aea-be7c-30fac9c1ccb5",
   "metadata": {},
   "source": [
    "## **4.2 Checking Dataset Features**"
   ]
  },
  {
   "cell_type": "markdown",
   "id": "d34aaa76-23ae-47d1-8945-97256e0dcf74",
   "metadata": {},
   "source": [
    "Next, we delve deeper into the columns of our DataFrame, much like how Hermione would meticulously study her textbooks. Each column represents a different feature of our students, from their house to their magical abilities."
   ]
  },
  {
   "cell_type": "code",
   "execution_count": 64,
   "id": "1cdfac28-6093-4d94-9e39-b122dcf34c31",
   "metadata": {},
   "outputs": [
    {
     "name": "stdout",
     "output_type": "stream",
     "text": [
      "Index(['name', 'gender', 'age', 'origin', 'specialty', 'house', 'blood_status',\n",
      "       'pet', 'wand_type', 'patronus', 'quidditch_position', 'boggart',\n",
      "       'favorite_class', 'house_points'],\n",
      "      dtype='object')\n"
     ]
    }
   ],
   "source": [
    "# Displaying the columns of the dataset\n",
    "print(hogwarts_df.columns)"
   ]
  },
  {
   "cell_type": "markdown",
   "id": "9fe952ab-5784-464c-a293-9358e2998e5e",
   "metadata": {},
   "source": [
    "As the magic spell finished its wizardry, the previous magical spell reveal the following **hidden artifacts**.\n"
   ]
  },
  {
   "cell_type": "markdown",
   "id": "415037dc-9183-474e-810c-7b41f296825c",
   "metadata": {},
   "source": [
    "Let us explore these features, each as significant as a spell component in a well-crafted incantation:\n",
    "\n",
    "- **Name**: The given name of our witch or wizard, from the illustrious Harry Potter to the enigmatic Luna Lovegood. 🌟\n",
    "- **Gender**: Whether they are a young wizard or witch, reflecting the diversity of Hogwarts.\n",
    "- **Age**: Their age at the time of sorting, for even the youngest students have their place in the castle's storied history.\n",
    "- **Origin**: The place they hail from, be it the rolling hills of England, the rugged highlands of Scotland, or the enchanting isles of Ireland. 🏞️\n",
    "- **Specialty**: Their area of magical expertise, such as Potions, Transfiguration, or Defense Against the Dark Arts, much like Professor Snape’s mastery of the subtle art of potion-making.\n",
    "- **House**: The revered house to which they belong—Gryffindor, Hufflepuff, Ravenclaw, or Slytherin—each with its own rich traditions and values.\n",
    "- **Blood Status**: Whether they are Pure-blood, Half-blood, or Muggle-born, a detail that, while significant in the wizarding world, never diminishes their magical potential.\n",
    "- **Pet**: Their chosen magical companion, be it an owl, a cat, or a toad, reminiscent of Harry's loyal Hedwig or Hermione's clever Crookshanks. 🦉🐈\n",
    "- **Wand Type**: The wood and core of their wand, the very tool of their magical prowess.\n",
    "- **Patronus**: The form their Patronus takes, a magical manifestation of their innermost self, like Harry's proud stag or Snape's ethereal doe. 🦌\n",
    "- **Quidditch Position**: Their role in the beloved wizarding sport, whether Seeker, Chaser, Beater, or Keeper, or perhaps no position at all.\n",
    "- **Boggart**: The form their Boggart takes, a glimpse into their deepest fears.\n",
    "- **Favorite Class**: The subject they excel in or enjoy the most, akin to Hermione's love for Arithmancy or Neville's talent in Herbology.\n",
    "- **House Points**: Points they have contributed to their house, reflecting their achievements and misadventures alike.\n",
    "\n",
    "With this compendium of magical features, we craft our dataset with the precision of a spell-wright composing a new enchantment. Each character's details are meticulously recorded, ensuring that our data is as rich and detailed as the tapestry of Hogwarts itself.🧙‍♂️🏰\n",
    "\n",
    "By examining these features, we gain a deeper understanding of the dataset's richness, much like a wizard learning about the different properties of magical creatures. And you're guessing correctly sorcerers, the dataset consists of 52 rows and 14 columns.✨🌟\n",
    "\n",
    "As we assemble this treasure trove of information, we prepare ourselves for the next step in our magical journey—transforming these attributes into the foundations upon which our **Decision Tree** algorithm will cast its spell. Let us proceed, dear sorcerers, for the magic is only just beginning.✨🧙‍♂️ \n"
   ]
  },
  {
   "cell_type": "code",
   "execution_count": 65,
   "id": "227bc434-1c16-47b7-b0ae-d134155fbcd8",
   "metadata": {},
   "outputs": [
    {
     "name": "stdout",
     "output_type": "stream",
     "text": [
      "(52, 14)\n"
     ]
    }
   ],
   "source": [
    "# Displaying the how many rows and columns in the dataset\n",
    "print(hogwarts_df.shape)"
   ]
  },
  {
   "cell_type": "markdown",
   "id": "15d75cc9-52c0-4887-9aa3-835a4c513d0a",
   "metadata": {},
   "source": [
    "With this compendium of magical features, we craft our dataset with the precision of a spell-wright composing a new enchantment. Each character's details are meticulously recorded, ensuring that our data is as rich and detailed as the tapestry of Hogwarts itself.🧙‍♂️🏰\n",
    "\n",
    "By examining these features, we gain a deeper understanding of the dataset's richness, much like a wizard learning about the different properties of magical creatures. And you're guessing correctly sorcerers, the dataset consists of 52 rows and 14 columns.✨🌟\n",
    "\n",
    "As we assemble this treasure trove of information, we prepare ourselves for the next step in our magical journey—transforming these attributes into the foundations upon which our Decision Tree algorithm will cast its spell. Let us proceed, dear sorcerers, for the magic is only just beginning.✨🧙‍♂️"
   ]
  },
  {
   "cell_type": "markdown",
   "id": "443b1a8e-352e-4321-ac42-29315d3febd7",
   "metadata": {},
   "source": [
    "---"
   ]
  },
  {
   "cell_type": "markdown",
   "id": "777bb046-8389-475f-a29d-e46f44114d80",
   "metadata": {},
   "source": [
    "## **4.3 Inspecting Data Types**"
   ]
  },
  {
   "cell_type": "markdown",
   "id": "804e2ba5-40a0-411c-aad5-ff048c976403",
   "metadata": {},
   "source": [
    "With a clear understanding of our features, we now turn our attention to the data types. This step is akin to examining the ingredients of a potion, ensuring each component is appropriate for its intended use."
   ]
  },
  {
   "cell_type": "markdown",
   "id": "5ee778ef-3b1d-4766-b6fe-b9245fc250c3",
   "metadata": {},
   "source": [
    "And in return, the previous magic spell would yield us, dear sorcerers the following incarnations."
   ]
  },
  {
   "cell_type": "code",
   "execution_count": 66,
   "id": "c89a0dc1-1cef-4e7d-921f-5ebb4c3749fe",
   "metadata": {},
   "outputs": [
    {
     "name": "stdout",
     "output_type": "stream",
     "text": [
      "name                   object\n",
      "gender                 object\n",
      "age                     int64\n",
      "origin                 object\n",
      "specialty              object\n",
      "house                  object\n",
      "blood_status           object\n",
      "pet                    object\n",
      "wand_type              object\n",
      "patronus               object\n",
      "quidditch_position     object\n",
      "boggart                object\n",
      "favorite_class         object\n",
      "house_points          float64\n",
      "dtype: object\n"
     ]
    }
   ],
   "source": [
    "# Checking the data types of each column\n",
    "print(hogwarts_df.dtypes)"
   ]
  },
  {
   "cell_type": "markdown",
   "id": "18e1eec5-7083-4429-949a-709723ba7794",
   "metadata": {},
   "source": [
    "The data types tell us whether each column contains numerical values, text, or other forms of data. For instance, Age should be a numerical type, while Name and House are text (or string) types. Ensuring these types are correct is crucial for our subsequent analyses and visualizations."
   ]
  },
  {
   "cell_type": "markdown",
   "id": "b5adad95-3b36-4bb5-b252-0ad7fd619ecd",
   "metadata": {},
   "source": [
    "---"
   ]
  },
  {
   "cell_type": "markdown",
   "id": "7b1dec00-8415-4ae7-a783-7f05c6e4763d",
   "metadata": {},
   "source": [
    "## **4.4 Incorrect Data Type**"
   ]
  },
  {
   "cell_type": "markdown",
   "id": "02cfc4bc-6aab-4686-8782-98414cd77152",
   "metadata": {},
   "source": [
    "Occasionally, we may find discrepancies in the data types, much like finding a rogue ingredient in a potion. Correcting these mismatches is essential to ensure the accuracy of our spells (or analyses)."
   ]
  },
  {
   "cell_type": "code",
   "execution_count": 71,
   "id": "4dcf2b40-f536-46c4-a631-52e125f5b8fb",
   "metadata": {},
   "outputs": [
    {
     "name": "stdout",
     "output_type": "stream",
     "text": [
      "Index(['name', 'gender', 'age', 'origin', 'specialty', 'house', 'blood_status',\n",
      "       'pet', 'wand_type', 'patronus', 'quidditch_position', 'boggart',\n",
      "       'favorite_class', 'house_points'],\n",
      "      dtype='object')\n",
      "name                    object\n",
      "gender                category\n",
      "age                      int64\n",
      "origin                  object\n",
      "specialty             category\n",
      "house                 category\n",
      "blood_status          category\n",
      "pet                   category\n",
      "wand_type             category\n",
      "patronus                object\n",
      "quidditch_position    category\n",
      "boggart                 object\n",
      "favorite_class        category\n",
      "house_points           float64\n",
      "dtype: object\n"
     ]
    }
   ],
   "source": [
    "# Converting data types if necessary\n",
    "# First, let's check the columns again to identify the correct names\n",
    "print(hogwarts_df.columns)\n",
    "\n",
    "# Assuming we identified 'age' as the correct column name for age\n",
    "hogwarts_df['age'] = pd.to_numeric(hogwarts_df['age'], errors='coerce')  # Ensure Age is numeric\n",
    "\n",
    "# Ensuring 'gender' is categorical\n",
    "hogwarts_df['gender'] = hogwarts_df['gender'].astype('category')  # Ensure Gender is categorical\n",
    "\n",
    "# Ensuring 'specialty' is categorical\n",
    "hogwarts_df['specialty'] = hogwarts_df['specialty'].astype('category')  # Ensure House is categorical\n",
    "\n",
    "# Ensuring 'house' is categorical\n",
    "hogwarts_df['house'] = hogwarts_df['house'].astype('category')  # Ensure House is categorical\n",
    "\n",
    "# Ensuring 'blood_status' is categorical\n",
    "hogwarts_df['blood_status'] = hogwarts_df['blood_status'].astype('category')  # Ensure House is categorical\n",
    "\n",
    "# Ensuring 'pet' is categorical\n",
    "hogwarts_df['pet'] = hogwarts_df['pet'].astype('category')  # Ensure pet is categorical\n",
    "\n",
    "# Ensuring 'pet' is categorical\n",
    "hogwarts_df['wand_type'] = hogwarts_df['wand_type'].astype('category')  # Ensure pet is categorical\n",
    "\n",
    "# Ensuring 'quidditch_position' is categorical\n",
    "hogwarts_df['quidditch_position'] = hogwarts_df['quidditch_position'].astype('category')  # Ensure quidditch_position is categorical\n",
    "\n",
    "# Ensuring 'favorite_class' is categorical\n",
    "hogwarts_df['favorite_class'] = hogwarts_df['favorite_class'].astype('category')  # Ensure favorite_class is categorical\n",
    "\n",
    "# Verify the data types after conversion\n",
    "print(hogwarts_df.dtypes)"
   ]
  },
  {
   "cell_type": "markdown",
   "id": "2400bb2b-73b9-493d-8063-937451abf290",
   "metadata": {},
   "source": [
    "### Pandas Data Types\n",
    "\n",
    "| Data Type | Description | Example Values | Conversion Method |\n",
    "|-----------|-------------|----------------|--------------------|\n",
    "| **int64** | Integer values | 1, 2, 3, -5, 0 | `pd.to_numeric(df['column'])` |\n",
    "| **float64** | Floating point numbers | 1.0, 2.5, -3.4, 0.0 | `pd.to_numeric(df['column'])` |\n",
    "| **bool** | Boolean values | True, False | `df['column'].astype('bool')` |\n",
    "| **object** | String values | 'apple', 'banana', '123' | `df['column'].astype('str')` |\n",
    "| **datetime64[ns]** | Date and time values | '2024-07-17', '2023-01-01 12:00' | `pd.to_datetime(df['column'])` |\n",
    "| **timedelta[ns]** | Differences between datetimes | '1 days 00:00:00', '2 days 03:04:05' | `pd.to_timedelta(df['column'])` |\n",
    "| **category** | Categorical data | 'A', 'B', 'C' | `df['column'].astype('category')` |\n",
    "\n",
    "### Example DataFrame and Conversions\n",
    "\n",
    "Let's create a DataFrame with various data types and demonstrate how to convert them.\n",
    "\n",
    "```python\n",
    "import pandas as pd\n",
    "\n",
    "# Sample DataFrame\n",
    "data = {\n",
    "    'integers': [1, 2, 3, 4],\n",
    "    'floats': [1.1, 2.2, 3.3, 4.4],\n",
    "    'booleans': [True, False, True, False],\n",
    "    'strings': ['apple', 'banana', 'cherry', 'date'],\n",
    "    'datetimes': ['2024-07-17', '2023-01-01', '2022-12-31', '2021-07-17']\n",
    "}\n",
    "\n",
    "df = pd.DataFrame(data)\n",
    "\n",
    "# Convert data types\n",
    "df['integers'] = df['integers'].astype('int64')\n",
    "df['floats'] = df['floats'].astype('float64')\n",
    "df['booleans'] = df['booleans'].astype('bool')\n",
    "df['strings'] = df['strings'].astype('object')\n",
    "df['datetimes'] = pd.to_datetime(df['datetimes'])\n",
    "\n",
    "# Display DataFrame\n",
    "print(df.dtypes)\n",
    "print(df)\n",
    "```\n",
    "\n",
    "### Changing Data Types\n",
    "\n",
    "You can use `astype()` for most conversions, `pd.to_datetime()` for datetime conversions, and `pd.to_timedelta()` for timedelta conversions.\n",
    "\n",
    "```python\n",
    "# Convert integer to float\n",
    "df['integers'] = df['integers'].astype('float64')\n",
    "\n",
    "# Convert float to integer\n",
    "df['floats'] = df['floats'].astype('int64')\n",
    "\n",
    "# Convert string to category\n",
    "df['strings'] = df['strings'].astype('category')\n",
    "\n",
    "# Convert datetime to string\n",
    "df['datetimes'] = df['datetimes'].astype('str')\n",
    "\n",
    "# Display updated DataFrame\n",
    "print(df.dtypes)\n",
    "print(df)\n",
    "```"
   ]
  },
  {
   "cell_type": "markdown",
   "id": "7b6aef58-6c82-47b7-8d85-ab59af90c76b",
   "metadata": {},
   "source": [
    "By casting these spells, we ensure that each column is of the appropriate type, ready for further exploration and manipulation. This step is much like Snape meticulously adjusting the ingredients of a complex potion to achieve the perfect brew."
   ]
  },
  {
   "cell_type": "markdown",
   "id": "ac3dc9a8-1a88-4405-a654-c8f1c865d309",
   "metadata": {},
   "source": [
    "---"
   ]
  },
  {
   "cell_type": "markdown",
   "id": "c59e27ed-a3b2-40c7-8a80-be747ad1303f",
   "metadata": {},
   "source": [
    "## **4.5 Reinvestigate The Data Type in The Dataset**"
   ]
  },
  {
   "cell_type": "markdown",
   "id": "c9f89e5c-bfef-4c10-b0c0-bf6f49c36f17",
   "metadata": {},
   "source": [
    "Having ensured the correctness of our data types, it's time to take a more comprehensive look at our dataset. This step is akin to casting a revealing charm over a hidden room, allowing us to see everything at once."
   ]
  },
  {
   "cell_type": "code",
   "execution_count": 72,
   "id": "13d132bf-1cbc-405b-bcf1-6bcf193caa8d",
   "metadata": {},
   "outputs": [
    {
     "name": "stdout",
     "output_type": "stream",
     "text": [
      "<class 'pandas.core.frame.DataFrame'>\n",
      "RangeIndex: 52 entries, 0 to 51\n",
      "Data columns (total 14 columns):\n",
      " #   Column              Non-Null Count  Dtype   \n",
      "---  ------              --------------  -----   \n",
      " 0   name                52 non-null     object  \n",
      " 1   gender              52 non-null     category\n",
      " 2   age                 52 non-null     int64   \n",
      " 3   origin              52 non-null     object  \n",
      " 4   specialty           52 non-null     category\n",
      " 5   house               52 non-null     category\n",
      " 6   blood_status        52 non-null     category\n",
      " 7   pet                 27 non-null     category\n",
      " 8   wand_type           52 non-null     category\n",
      " 9   patronus            50 non-null     object  \n",
      " 10  quidditch_position  10 non-null     category\n",
      " 11  boggart             52 non-null     object  \n",
      " 12  favorite_class      51 non-null     category\n",
      " 13  house_points        50 non-null     float64 \n",
      "dtypes: category(8), float64(1), int64(1), object(4)\n",
      "memory usage: 6.8+ KB\n",
      "None\n"
     ]
    }
   ],
   "source": [
    "# Displaying a summary of the entire data tyopes in the dataset\n",
    "print(hogwarts_df.info())"
   ]
  },
  {
   "cell_type": "code",
   "execution_count": 73,
   "id": "93b09274-9bc6-4b10-8f39-cfe96f909693",
   "metadata": {},
   "outputs": [
    {
     "name": "stdout",
     "output_type": "stream",
     "text": [
      "                name gender        age   origin specialty       house  \\\n",
      "count             52     52  52.000000       52        52          52   \n",
      "unique            52      2        NaN        9        24           6   \n",
      "top     Harry Potter   Male        NaN  England    Charms  Gryffindor   \n",
      "freq               1     27        NaN       35         7          18   \n",
      "mean             NaN    NaN  14.942308      NaN       NaN         NaN   \n",
      "std              NaN    NaN   2.492447      NaN       NaN         NaN   \n",
      "min              NaN    NaN  11.000000      NaN       NaN         NaN   \n",
      "25%              NaN    NaN  13.250000      NaN       NaN         NaN   \n",
      "50%              NaN    NaN  16.000000      NaN       NaN         NaN   \n",
      "75%              NaN    NaN  17.000000      NaN       NaN         NaN   \n",
      "max              NaN    NaN  18.000000      NaN       NaN         NaN   \n",
      "\n",
      "       blood_status  pet wand_type       patronus quidditch_position  boggart  \\\n",
      "count            52   27        52             50                 10       52   \n",
      "unique            4    9        28             15                  5       11   \n",
      "top      Half-blood  Owl       Fir  Non-corporeal             Seeker  Failure   \n",
      "freq             25   11         4             34                  5       40   \n",
      "mean            NaN  NaN       NaN            NaN                NaN      NaN   \n",
      "std             NaN  NaN       NaN            NaN                NaN      NaN   \n",
      "min             NaN  NaN       NaN            NaN                NaN      NaN   \n",
      "25%             NaN  NaN       NaN            NaN                NaN      NaN   \n",
      "50%             NaN  NaN       NaN            NaN                NaN      NaN   \n",
      "75%             NaN  NaN       NaN            NaN                NaN      NaN   \n",
      "max             NaN  NaN       NaN            NaN                NaN      NaN   \n",
      "\n",
      "       favorite_class  house_points  \n",
      "count              51     50.000000  \n",
      "unique             21           NaN  \n",
      "top            Charms           NaN  \n",
      "freq                8           NaN  \n",
      "mean              NaN    119.200000  \n",
      "std               NaN     54.129097  \n",
      "min               NaN     10.000000  \n",
      "25%               NaN     72.500000  \n",
      "50%               NaN    125.000000  \n",
      "75%               NaN    160.000000  \n",
      "max               NaN    200.000000  \n"
     ]
    }
   ],
   "source": [
    "print(hogwarts_df.describe(include='all'))  # Providing a detailed summary of the dataset"
   ]
  },
  {
   "cell_type": "code",
   "execution_count": 74,
   "id": "4bea72ef-9366-45a1-a669-01d5b74ec006",
   "metadata": {},
   "outputs": [
    {
     "name": "stdout",
     "output_type": "stream",
     "text": [
      "                    name  gender  age     origin                      specialty        house blood_status        pet   wand_type              patronus quidditch_position         boggart                 favorite_class  house_points\n",
      "0           Harry Potter    Male   11    England  Defense Against the Dark Arts   Gryffindor   Half-blood        Owl       Holly                  Stag             Seeker        Dementor  Defense Against the Dark Arts         150.0\n",
      "1       Hermione Granger  Female   11    England                Transfiguration   Gryffindor  Muggle-born        Cat        Vine                 Otter                NaN         Failure                     Arithmancy         200.0\n",
      "2            Ron Weasley    Male   11    England                          Chess   Gryffindor   Pure-blood        Rat         Ash  Jack Russell Terrier             Keeper          Spider                         Charms          50.0\n",
      "3           Draco Malfoy    Male   11    England                        Potions    Slytherin   Pure-blood        Owl    Hawthorn                   NaN             Seeker  Lord Voldemort                        Potions         100.0\n",
      "4          Luna Lovegood  Female   11    Ireland                      Creatures    Ravenclaw   Half-blood        NaN         Fir                  Hare                NaN      Her mother                      Creatures         120.0\n",
      "5     Neville Longbottom    Male   11    England                      Herbology   Gryffindor   Pure-blood       Toad      Cherry         Non-corporeal                NaN   Severus Snape                      Herbology          70.0\n",
      "6          Ginny Weasley  Female   11    England  Defense Against the Dark Arts   Gryffindor   Pure-blood        Owl         Yew                 Horse             Chaser      Tom Riddle  Defense Against the Dark Arts         140.0\n",
      "7         Cedric Diggory    Male   15    England                      Quidditch   Hufflepuff   Pure-blood        NaN         Ash         Non-corporeal             Seeker         Failure  Defense Against the Dark Arts         160.0\n",
      "8              Cho Chang  Female   14   Scotland                         Charms    Ravenclaw   Half-blood        Owl       Hazel                  Swan             Seeker         Failure                         Charms         110.0\n",
      "9          Severus Snape    Male   16    England                        Potions    Slytherin   Half-blood        NaN         Elm                   Doe                NaN     Lily Potter                        Potions          90.0\n",
      "10      Albus Dumbledore    Male   17    England                Transfiguration   Gryffindor   Half-blood    Phoenix       Elder               Phoenix                NaN  Ariana's death                Transfiguration         200.0\n",
      "11    Minerva McGonagall  Female   16   Scotland                Transfiguration   Gryffindor   Half-blood        Cat         Fir                   Cat                NaN         Failure                Transfiguration         190.0\n",
      "12   Bellatrix Lestrange  Female   15    England                      Dark Arts    Slytherin   Pure-blood        NaN      Walnut                   NaN            Azkaban         Dueling                             80           NaN\n",
      "13      Nymphadora Tonks  Female   14      Wales                 Metamorphmagus   Hufflepuff   Half-blood        Owl  Blackthorn                  Wolf                NaN         Failure  Defense Against the Dark Arts         130.0\n",
      "14           Remus Lupin    Male   16    England  Defense Against the Dark Arts   Gryffindor   Half-blood        Dog     Cypress         Non-corporeal                NaN       Full Moon  Defense Against the Dark Arts         150.0\n",
      "15          Sirius Black    Male   16    England                Transfiguration   Gryffindor   Pure-blood        Owl    Chestnut                   Dog             Beater       Full Moon  Defense Against the Dark Arts         140.0\n",
      "16       Horace Slughorn    Male   16    England                        Potions    Slytherin   Half-blood        NaN       Cedar         Non-corporeal                NaN         Failure                        Potions         100.0\n",
      "17       Filius Flitwick    Male   17    England                         Charms    Ravenclaw   Half-blood        NaN    Hornbeam         Non-corporeal                NaN         Failure                         Charms         180.0\n",
      "18         Pomona Sprout  Female   16    England                      Herbology   Hufflepuff   Pure-blood        Cat        Pine         Non-corporeal                NaN         Failure                      Herbology         170.0\n",
      "19      Helena Ravenclaw  Female   17   Scotland                         Charms    Ravenclaw   Pure-blood        NaN       Rowan         Non-corporeal                NaN      Her mother                         Charms         160.0\n",
      "20     Godric Gryffindor    Male   17    England                        Dueling   Gryffindor   Pure-blood        NaN       Sword                  Lion                NaN         Failure                        Dueling         200.0\n",
      "21      Helga Hufflepuff  Female   17      Wales                      Herbology   Hufflepuff   Pure-blood        NaN       Cedar         Non-corporeal                NaN         Failure                      Herbology         190.0\n",
      "22      Rowena Ravenclaw  Female   17   Scotland                         Charms    Ravenclaw   Pure-blood        NaN       Maple                 Eagle                NaN         Failure                         Charms         180.0\n",
      "23     Salazar Slytherin    Male   17    England                      Dark Arts    Slytherin   Pure-blood        NaN       Ebony               Serpent                NaN         Failure                      Dark Arts         200.0\n",
      "24         Molly Weasley  Female   16    England               Household Charms   Gryffindor   Pure-blood        Owl        Pine         Non-corporeal                NaN         Failure               Household Charms          80.0\n",
      "25        Arthur Weasley    Male   16    England               Muggle Artifacts   Gryffindor   Pure-blood        NaN    Hornbeam         Non-corporeal                NaN         Failure                 Muggle Studies          60.0\n",
      "26         Lucius Malfoy    Male   16    England                      Dark Arts    Slytherin   Pure-blood        Owl         Elm         Non-corporeal                NaN         Failure                      Dark Arts          90.0\n",
      "27       Narcissa Malfoy  Female   15    England                        Potions    Slytherin   Pure-blood        NaN    Hawthorn         Non-corporeal                NaN         Failure                        Potions          70.0\n",
      "28       Pansy Parkinson  Female   11    England                         Gossip    Slytherin   Pure-blood        Cat       Birch         Non-corporeal                NaN         Failure                         Gossip          40.0\n",
      "29        Vincent Crabbe    Male   11    England                       Strength    Slytherin   Pure-blood        NaN         Oak         Non-corporeal                NaN         Failure                       Strength          50.0\n",
      "30         Gregory Goyle    Male   11    England                       Strength    Slytherin   Pure-blood        NaN       Alder         Non-corporeal                NaN         Failure                       Strength          50.0\n",
      "31            Lily Evans  Female   11    England                         Charms   Gryffindor  Muggle-born        NaN      Willow                   Doe                NaN         Failure                         Charms         150.0\n",
      "32          James Potter    Male   11    England                        Dueling   Gryffindor   Pure-blood        Owl      Walnut                  Stag             Chaser         Failure                        Dueling         160.0\n",
      "33       Peter Pettigrew    Male   11    England                 Transformation   Gryffindor   Half-blood        Rat         Ash         Non-corporeal                NaN         Failure                 Transformation          30.0\n",
      "34     Gilderoy Lockhart    Male   15    England                  Memory Charms    Ravenclaw   Half-blood        NaN      Cherry         Non-corporeal                NaN         Failure                  Memory Charms          70.0\n",
      "35      Dolores Umbridge  Female   15    England                      Dark Arts    Slytherin   Half-blood        Cat     Hemlock         Non-corporeal                NaN         Failure                      Dark Arts          60.0\n",
      "36        Newt Scamander    Male   17    England              Magical Creatures   Hufflepuff   Half-blood  Demiguise    Chestnut         Non-corporeal                NaN         Failure                      Creatures         160.0\n",
      "37        Tina Goldstein  Female   17        USA                          Auror   Hufflepuff   Half-blood        Owl         Ash         Non-corporeal                NaN         Failure  Defense Against the Dark Arts         140.0\n",
      "38     Queenie Goldstein  Female   17        USA                    Legilimency    Ravenclaw   Half-blood        Owl     Cypress         Non-corporeal                NaN         Failure                    Legilimency         130.0\n",
      "39        Jacob Kowalski    Male   17        USA                         Baking   Hufflepuff       No-mag        NaN       Birch         Non-corporeal                NaN         Failure                         Baking          10.0\n",
      "40     Theseus Scamander    Male   17    England                          Auror   Gryffindor   Half-blood        Dog       Elder         Non-corporeal                NaN         Failure  Defense Against the Dark Arts         150.0\n",
      "41        Leta Lestrange  Female   16    England                        Potions    Slytherin   Pure-blood        Cat       Ebony         Non-corporeal                NaN         Failure                        Potions         100.0\n",
      "42                Nagini  Female   18  Indonesia                 Transformation    Slytherin   Half-blood      Snake        Teak         Non-corporeal                NaN         Failure                 Transformation          90.0\n",
      "43           Grindelwald    Male   18     Europe                      Dark Arts    Slytherin   Pure-blood        NaN       Elder         Non-corporeal                NaN         Failure                      Dark Arts         200.0\n",
      "44      Bathilda Bagshot  Female   17    England               History of Magic    Ravenclaw   Half-blood        Cat      Willow         Non-corporeal                NaN         Failure                            NaN           NaN\n",
      "45  Aberforth Dumbledore    Male   17    England                  Goat Charming   Gryffindor   Half-blood       Goat         Oak         Non-corporeal                NaN         Failure                  Goat Charming          70.0\n",
      "46     Ariana Dumbledore  Female   14    England                       Obscurus   Gryffindor   Half-blood        NaN         Fir         Non-corporeal                NaN         Failure                       Obscurus          20.0\n",
      "47           Victor Krum    Male   17   Bulgaria                      Quidditch   Durmstrang   Pure-blood        NaN    Hawthorn         Non-corporeal             Seeker         Failure                      Quidditch         180.0\n",
      "48        Fleur Delacour  Female   17     France                         Charms  Beauxbatons   Half-blood        NaN    Rosewood         Non-corporeal                NaN         Failure                         Charms         140.0\n",
      "49    Gabrielle Delacour  Female   14     France                         Charms  Beauxbatons   Half-blood        NaN       Alder         Non-corporeal                NaN         Failure                         Charms          80.0\n",
      "50         Olympe Maxime  Female   17     France                       Strength  Beauxbatons   Half-blood        NaN         Fir         Non-corporeal                NaN         Failure                       Strength         110.0\n",
      "51        Igor Karkaroff    Male   18     Europe                      Dark Arts   Durmstrang   Half-blood        NaN         Yew         Non-corporeal                NaN         Failure                      Dark Arts          90.0\n"
     ]
    }
   ],
   "source": [
    "# Displaying a summary of the entire dataset\n",
    "print(hogwarts_df.to_string())"
   ]
  },
  {
   "cell_type": "code",
   "execution_count": 77,
   "id": "234bf03f-0904-4c35-a33b-0b94014a54e4",
   "metadata": {},
   "outputs": [],
   "source": [
    "hogwarts_df.to_csv('data/hogwarts-students-01.csv')"
   ]
  },
  {
   "cell_type": "code",
   "execution_count": null,
   "id": "2e3c8a09-378c-48e4-ba24-b3d449e8b812",
   "metadata": {},
   "outputs": [],
   "source": []
  }
 ],
 "metadata": {
  "kernelspec": {
   "display_name": "Python 3 (ipykernel)",
   "language": "python",
   "name": "python3"
  },
  "language_info": {
   "codemirror_mode": {
    "name": "ipython",
    "version": 3
   },
   "file_extension": ".py",
   "mimetype": "text/x-python",
   "name": "python",
   "nbconvert_exporter": "python",
   "pygments_lexer": "ipython3",
   "version": "3.8.0"
  }
 },
 "nbformat": 4,
 "nbformat_minor": 5
}
