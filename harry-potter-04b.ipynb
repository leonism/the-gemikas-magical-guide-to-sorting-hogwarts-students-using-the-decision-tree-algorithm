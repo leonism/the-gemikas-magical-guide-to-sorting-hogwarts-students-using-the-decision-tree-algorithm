{
 "cells": [
  {
   "cell_type": "code",
   "execution_count": 1,
   "id": "f8e6e25c-2fcb-4b1b-b47f-1534a1e5f4b4",
   "metadata": {},
   "outputs": [
    {
     "name": "stdout",
     "output_type": "stream",
     "text": [
      "Unnamed: 0             0\n",
      "name                   0\n",
      "gender                 0\n",
      "age                    0\n",
      "origin                 0\n",
      "specialty              0\n",
      "house                  0\n",
      "blood_status           0\n",
      "pet                   25\n",
      "wand_type              0\n",
      "patronus               2\n",
      "quidditch_position    42\n",
      "boggart                0\n",
      "favorite_class         1\n",
      "house_points           2\n",
      "dtype: int64\n",
      "Unnamed: 0            0\n",
      "name                  0\n",
      "gender                0\n",
      "age                   0\n",
      "origin                0\n",
      "specialty             0\n",
      "house                 0\n",
      "blood_status          0\n",
      "pet                   0\n",
      "wand_type             0\n",
      "patronus              2\n",
      "quidditch_position    0\n",
      "boggart               0\n",
      "favorite_class        0\n",
      "house_points          2\n",
      "dtype: int64\n"
     ]
    }
   ],
   "source": [
    "# Importing necessary libraries\n",
    "import pandas as pd\n",
    "import numpy as np\n",
    "\n",
    "# Loading the dataset\n",
    "dataset_path = 'data/hogwarts-students-01.csv'  # Path to our dataset\n",
    "hogwarts_df = pd.read_csv(dataset_path)\n",
    "\n",
    "# Checking for missing values\n",
    "print(hogwarts_df.isnull().sum())"
   ]
  },
  {
   "cell_type": "code",
   "execution_count": 2,
   "id": "5c11b874-4824-4287-beff-d19ca93d505d",
   "metadata": {},
   "outputs": [
    {
     "name": "stdout",
     "output_type": "stream",
     "text": [
      "Unnamed: 0            0\n",
      "name                  0\n",
      "gender                0\n",
      "age                   0\n",
      "origin                0\n",
      "specialty             0\n",
      "house                 0\n",
      "blood_status          0\n",
      "pet                   0\n",
      "wand_type             0\n",
      "patronus              2\n",
      "quidditch_position    0\n",
      "boggart               0\n",
      "favorite_class        0\n",
      "house_points          2\n",
      "dtype: int64\n"
     ]
    }
   ],
   "source": [
    "# Filling missing numerical values with the mean\n",
    "hogwarts_df['age'].fillna(hogwarts_df['age'].mean(), inplace=True)\n",
    "\n",
    "# Filling missing categorical values with the mode\n",
    "hogwarts_df['house'].fillna(hogwarts_df['house'].mode()[0], inplace=True)\n",
    "hogwarts_df['gender'].fillna(hogwarts_df['gender'].mode()[0], inplace=True)\n",
    "hogwarts_df['specialty'].fillna(hogwarts_df['specialty'].mode()[0], inplace=True)\n",
    "hogwarts_df['blood_status'].fillna(hogwarts_df['blood_status'].mode()[0], inplace=True)\n",
    "hogwarts_df['pet'].fillna(hogwarts_df['pet'].mode()[0], inplace=True)\n",
    "hogwarts_df['wand_type'].fillna(hogwarts_df['wand_type'].mode()[0], inplace=True)\n",
    "hogwarts_df['quidditch_position'].fillna(hogwarts_df['quidditch_position'].mode()[0], inplace=True)\n",
    "hogwarts_df['favorite_class'].fillna(hogwarts_df['favorite_class'].mode()[0], inplace=True)\n",
    "\n",
    "# Verifying that all missing values are handled\n",
    "print(hogwarts_df.isnull().sum())"
   ]
  },
  {
   "cell_type": "code",
   "execution_count": null,
   "id": "57263cab-ffd4-4220-85b6-8256c9430ebd",
   "metadata": {},
   "outputs": [],
   "source": []
  }
 ],
 "metadata": {
  "kernelspec": {
   "display_name": "Python 3 (ipykernel)",
   "language": "python",
   "name": "python3"
  },
  "language_info": {
   "codemirror_mode": {
    "name": "ipython",
    "version": 3
   },
   "file_extension": ".py",
   "mimetype": "text/x-python",
   "name": "python",
   "nbconvert_exporter": "python",
   "pygments_lexer": "ipython3",
   "version": "3.8.0"
  }
 },
 "nbformat": 4,
 "nbformat_minor": 5
}
