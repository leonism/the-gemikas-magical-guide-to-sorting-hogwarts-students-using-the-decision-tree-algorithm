{
 "cells": [
  {
   "cell_type": "markdown",
   "id": "542527d5-542e-47d1-95ed-dcc25c6770c5",
   "metadata": {},
   "source": [
    "# 1. Loading Libraries in Python"
   ]
  },
  {
   "cell_type": "code",
   "execution_count": 3,
   "id": "7b668ab7-245a-4911-92f1-8d95d8b7ed59",
   "metadata": {},
   "outputs": [],
   "source": [
    "# Importing the necessary libraries for our magical journey\n",
    "import pandas as pd  # For data manipulation\n",
    "import numpy as np  # For numerical operations\n",
    "import matplotlib.pyplot as plt  # For data visualization\n",
    "import seaborn as sns  # For advanced data visualization\n",
    "\n",
    "# Ensuring our charts are in line with the Hogwarts aesthetic\n",
    "sns.set(style=\"whitegrid\")"
   ]
  },
  {
   "cell_type": "markdown",
   "id": "042a37e6-32d7-463b-8d2a-4c1efe4df976",
   "metadata": {},
   "source": [
    "# 2. Reading the Dataset into a Pandas DataFrame"
   ]
  },
  {
   "cell_type": "markdown",
   "id": "b2fc7305-4b52-45ef-9862-b579e83813d7",
   "metadata": {},
   "source": [
    "With our spell books at the ready, it is time to conjure the dataset into a form we can work with. Using the mystical powers of pandas, we will transform the dataset into a DataFrame, much like Professor McGonagall transfigures a desk into a pig. This DataFrame will be our primary tool for exploring and manipulating the data."
   ]
  },
  {
   "cell_type": "code",
   "execution_count": 4,
   "id": "cfd24c06-4f7c-44d2-b2bd-a6a079532e2f",
   "metadata": {},
   "outputs": [
    {
     "name": "stdout",
     "output_type": "stream",
     "text": [
      "               name  gender  age   origin                      specialty  \\\n",
      "0      Harry Potter    Male   11  England  Defense Against the Dark Arts   \n",
      "1  Hermione Granger  Female   11  England                Transfiguration   \n",
      "2       Ron Weasley    Male   11  England                          Chess   \n",
      "3      Draco Malfoy    Male   11  England                        Potions   \n",
      "4     Luna Lovegood  Female   11  Ireland                      Creatures   \n",
      "\n",
      "        house blood_status  pet wand_type              patronus  \\\n",
      "0  Gryffindor   Half-blood  Owl     Holly                  Stag   \n",
      "1  Gryffindor  Muggle-born  Cat      Vine                 Otter   \n",
      "2  Gryffindor   Pure-blood  Rat       Ash  Jack Russell Terrier   \n",
      "3   Slytherin   Pure-blood  Owl  Hawthorn                   NaN   \n",
      "4   Ravenclaw   Half-blood  NaN       Fir                  Hare   \n",
      "\n",
      "  quidditch_position         boggart                 favorite_class  \\\n",
      "0             Seeker        Dementor  Defense Against the Dark Arts   \n",
      "1                NaN         Failure                     Arithmancy   \n",
      "2             Keeper          Spider                         Charms   \n",
      "3             Seeker  Lord Voldemort                        Potions   \n",
      "4                NaN      Her mother                      Creatures   \n",
      "\n",
      "   house_points  \n",
      "0         150.0  \n",
      "1         200.0  \n",
      "2          50.0  \n",
      "3         100.0  \n",
      "4         120.0  \n"
     ]
    }
   ],
   "source": [
    "# Reading the enchanted dataset into a Pandas DataFrame\n",
    "dataset_path = 'data/hogwarts-students.csv'  # Path to our dataset\n",
    "hogwarts_df = pd.read_csv(dataset_path)\n",
    "\n",
    "# Displaying the first few rows of the dataset to get a glimpse of its contents\n",
    "print(hogwarts_df.head())"
   ]
  },
  {
   "cell_type": "code",
   "execution_count": null,
   "id": "0f672e10-8ce1-44be-8be0-a058114eac20",
   "metadata": {},
   "outputs": [],
   "source": []
  }
 ],
 "metadata": {
  "kernelspec": {
   "display_name": "Python 3 (ipykernel)",
   "language": "python",
   "name": "python3"
  },
  "language_info": {
   "codemirror_mode": {
    "name": "ipython",
    "version": 3
   },
   "file_extension": ".py",
   "mimetype": "text/x-python",
   "name": "python",
   "nbconvert_exporter": "python",
   "pygments_lexer": "ipython3",
   "version": "3.8.0"
  }
 },
 "nbformat": 4,
 "nbformat_minor": 5
}
